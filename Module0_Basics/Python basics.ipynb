{
  "cells": [
    {
      "cell_type": "markdown",
      "metadata": {
        "id": "WXL1g2AXEWa-"
      },
      "source": [
        "To open notebook in Colab please click below:\n",
        "<a href=\"https://colab.research.google.com/github/bwolfson2/foster_2021/blob/master/Module0_Basics/Python%20basics.ipynb\"  target=\"_parent\"> <img src=\"https://colab.research.google.com/assets/colab-badge.svg\" alt=\"Open In Colab\" /> </a>'"
      ]
    },
    {
      "cell_type": "code",
      "execution_count": 1,
      "metadata": {
        "collapsed": true,
        "id": "4znnu3A5EWbB",
        "outputId": "f7d73e61-cf17-4c4a-b5f0-4e0b502b70e7",
        "colab": {
          "base_uri": "https://localhost:8080/"
        }
      },
      "outputs": [
        {
          "output_type": "stream",
          "name": "stdout",
          "text": [
            "Cloning into 'foster_2022'...\n",
            "remote: Enumerating objects: 668, done.\u001b[K\n",
            "remote: Counting objects: 100% (43/43), done.\u001b[K\n",
            "remote: Compressing objects: 100% (31/31), done.\u001b[K\n",
            "remote: Total 668 (delta 12), reused 20 (delta 12), pack-reused 625\u001b[K\n",
            "Receiving objects: 100% (668/668), 68.80 MiB | 12.67 MiB/s, done.\n",
            "Resolving deltas: 100% (347/347), done.\n",
            "Checking out files: 100% (131/131), done.\n",
            "/content/foster_2022/Module0_Basics\n"
          ]
        }
      ],
      "source": [
        "#If opening in colab run this cell\n",
        "!git clone https://github.com/pearl-yu/foster_2022\n",
        "%cd foster_2022/Module0_Basics"
      ]
    },
    {
      "cell_type": "markdown",
      "metadata": {
        "id": "6314oSJTEWbC"
      },
      "source": [
        "# Jupyter notebooks\n",
        "\n",
        "\n",
        "Fall 2022 - Instructors: Foster Provost and Pearl Yu\n",
        "\n",
        "Teaching Assistant: Pearl Yu\n",
        "\n",
        "***"
      ]
    },
    {
      "cell_type": "markdown",
      "metadata": {
        "id": "CtU9pfjyEWbD"
      },
      "source": [
        "# Python basics\n",
        "\n",
        "\n",
        "Spring 2022 - Instructors: Foster Provost and Pearl Yu\n",
        "\n",
        "Teaching Assistant: Pearl Yu\n",
        "\n",
        "***"
      ]
    },
    {
      "cell_type": "markdown",
      "metadata": {
        "id": "7baD66aeEWbD"
      },
      "source": [
        "This notebook shows examples of Python code, including built-in functions, packages and programming structures useful for Data Science and Business Analytics. This should be review for you all!  At the bottom there are some pointers to a few resources."
      ]
    },
    {
      "cell_type": "markdown",
      "metadata": {
        "id": "Gj5nNoEvEWbE"
      },
      "source": [
        "## Python code"
      ]
    },
    {
      "cell_type": "markdown",
      "metadata": {
        "id": "FLUJF-W6EWbE"
      },
      "source": [
        "### 1. Variables, operations and data types\n",
        "Variables are used to store data. \n",
        "The data can be of a variety of types: \n",
        "\n",
        "- Integer numbers\n",
        "- Floating (decimal numbers)\n",
        "- Strings\n",
        "\n",
        "Let's create three variables, one of each type, with 3 different names:"
      ]
    },
    {
      "cell_type": "code",
      "execution_count": 2,
      "metadata": {
        "collapsed": true,
        "id": "r3G4yaNjEWbF"
      },
      "outputs": [],
      "source": [
        "some_integer = 5\n",
        "some_float = 7.12\n",
        "some_string = \"Student\""
      ]
    },
    {
      "cell_type": "markdown",
      "metadata": {
        "id": "Fody_qiyEWbF"
      },
      "source": [
        "We can print out these variables. Remember we need to run the previous cell first!"
      ]
    },
    {
      "cell_type": "code",
      "execution_count": 3,
      "metadata": {
        "id": "2X2EJ_y-EWbG",
        "outputId": "62e15cce-d9fb-4f98-bc31-47ae84d0b566",
        "colab": {
          "base_uri": "https://localhost:8080/"
        }
      },
      "outputs": [
        {
          "output_type": "stream",
          "name": "stdout",
          "text": [
            "5\n",
            "7.12\n",
            "Student\n"
          ]
        }
      ],
      "source": [
        "print (some_integer)\n",
        "print (some_float)\n",
        "print (some_string)"
      ]
    },
    {
      "cell_type": "markdown",
      "metadata": {
        "id": "AdWwclm7EWbG"
      },
      "source": [
        "What if I want to print some text and then some numbers? One easy way to do this is to realize that printing will always **want** string data. \n",
        "\n",
        "If you have data that is not a string (like an integer or float), you can **convert** it to a string: "
      ]
    },
    {
      "cell_type": "code",
      "execution_count": 4,
      "metadata": {
        "id": "kwEM7r1QEWbH",
        "outputId": "7e1035be-ac25-4de3-b61a-97303cf0e8da",
        "colab": {
          "base_uri": "https://localhost:8080/"
        }
      },
      "outputs": [
        {
          "output_type": "stream",
          "name": "stdout",
          "text": [
            "My integer is 5.\n",
            "My float converted into integer is 7.\n"
          ]
        }
      ],
      "source": [
        "print (\"My integer is \" + str(some_integer) + \".\")\n",
        "print (\"My float converted into integer is \" + str( int(some_float) ) + \".\")"
      ]
    },
    {
      "cell_type": "markdown",
      "metadata": {
        "id": "F3bVZ4uMEWbH"
      },
      "source": [
        "What else can we do with our variables? We can do basic math: **operations**."
      ]
    },
    {
      "cell_type": "code",
      "execution_count": 5,
      "metadata": {
        "id": "XRv9iydmEWbH",
        "outputId": "2f35c0a9-9a91-4353-f46b-c78cd292cfac",
        "colab": {
          "base_uri": "https://localhost:8080/"
        }
      },
      "outputs": [
        {
          "output_type": "stream",
          "name": "stdout",
          "text": [
            "sum 12.120000000000001\n",
            "multiplication 35.6\n",
            "quotient 0.7022471910112359\n",
            "power 100000\n"
          ]
        }
      ],
      "source": [
        "print (\"sum \" + str( some_integer + some_float ))\n",
        "print (\"multiplication \" + str ( some_integer * some_float ))\n",
        "print (\"quotient \" + str( some_integer / some_float ))\n",
        "print (\"power \" + str( 10**some_integer ))"
      ]
    },
    {
      "cell_type": "markdown",
      "metadata": {
        "id": "5QBm9HSxEWbI"
      },
      "source": [
        "We can store this as a new variable and print it:"
      ]
    },
    {
      "cell_type": "code",
      "execution_count": 6,
      "metadata": {
        "id": "QWbvde8GEWbI",
        "outputId": "153d7f3e-dbb2-4dcf-99fe-b3e349a12131",
        "colab": {
          "base_uri": "https://localhost:8080/"
        }
      },
      "outputs": [
        {
          "output_type": "stream",
          "name": "stdout",
          "text": [
            "Sum variable: 12.120000000000001\n"
          ]
        }
      ],
      "source": [
        "my_sum = some_integer + some_float\n",
        "print (\"Sum variable: \" + str( my_sum ))"
      ]
    },
    {
      "cell_type": "markdown",
      "metadata": {
        "id": "bNHfeh70EWbI"
      },
      "source": [
        "There are also other **data structures**:\n",
        "\n",
        "- Lists (sometimes refered to as \"arrays\", but look up the difference)\n",
        "- Dictionaries\n",
        "- Sets\n"
      ]
    },
    {
      "cell_type": "code",
      "execution_count": 7,
      "metadata": {
        "id": "f9eXKANQEWbI",
        "outputId": "8d73c85f-742d-4e23-841f-93e0eaad9bd7",
        "colab": {
          "base_uri": "https://localhost:8080/"
        }
      },
      "outputs": [
        {
          "output_type": "stream",
          "name": "stdout",
          "text": [
            "This is a list:  [0, 0, 1, 2, 3, 3, 4.5, 7.6]\n",
            "This is a dictionary:  {'student1': '(929)-000-0000', 'student2': '(917)-000-0000', 'student3': '(470)-000-0000'}\n",
            "This is a set:  {1, 2, 4, 5}\n"
          ]
        }
      ],
      "source": [
        "some_list = [0,0,1,2,3,3,4.5,7.6]\n",
        "some_dictionary = {'student1': '(929)-000-0000', 'student2': '(917)-000-0000', 'student3': '(470)-000-0000'}\n",
        "some_set = set( [1,2,4,4,5,5] )\n",
        "\n",
        "print (\"This is a list:  \" + str(some_list))\n",
        "print (\"This is a dictionary:  \" + str( some_dictionary ))\n",
        "print (\"This is a set:  \" + str( some_set ))"
      ]
    },
    {
      "cell_type": "markdown",
      "metadata": {
        "id": "7KrVEhWbEWbJ"
      },
      "source": [
        "How can we use  **individual** elements? \n",
        "\n",
        "In Python (and generally by computer science convention), we count elements of a _list_ starting from zero! To get the first item we should look in the 0th space:\n"
      ]
    },
    {
      "cell_type": "code",
      "execution_count": 8,
      "metadata": {
        "id": "ie3i4N8nEWbJ",
        "outputId": "74418379-fbc1-48e9-beb3-444aece14c0b",
        "colab": {
          "base_uri": "https://localhost:8080/"
        }
      },
      "outputs": [
        {
          "output_type": "stream",
          "name": "stdout",
          "text": [
            "0\n"
          ]
        }
      ],
      "source": [
        "print (some_list[0])"
      ]
    },
    {
      "cell_type": "markdown",
      "metadata": {
        "id": "KUOY39ddEWbJ"
      },
      "source": [
        "Adding things to the end of the list is \"appending\" them:"
      ]
    },
    {
      "cell_type": "code",
      "execution_count": 9,
      "metadata": {
        "id": "8qDy9DoIEWbK",
        "outputId": "ca07c160-a72f-4d5d-af32-8fe4140ad0bf",
        "colab": {
          "base_uri": "https://localhost:8080/"
        }
      },
      "outputs": [
        {
          "output_type": "stream",
          "name": "stdout",
          "text": [
            "[0, 0, 1, 2, 3, 3, 4.5, 7.6, 500]\n"
          ]
        }
      ],
      "source": [
        "some_list.append(500)\n",
        "print (some_list)"
      ]
    },
    {
      "cell_type": "markdown",
      "metadata": {
        "id": "SclJuMDDEWbK"
      },
      "source": [
        "How can we retrieve an element (**VALUE**) of a _dictionary_ ?  Use its **\"KEY\"** !! "
      ]
    },
    {
      "cell_type": "code",
      "execution_count": 10,
      "metadata": {
        "id": "Ifk3zqfaEWbK",
        "outputId": "710fc2c0-1948-4781-a286-ad4bb8d5db3e",
        "colab": {
          "base_uri": "https://localhost:8080/"
        }
      },
      "outputs": [
        {
          "output_type": "stream",
          "name": "stdout",
          "text": [
            "(929)-000-0000\n"
          ]
        }
      ],
      "source": [
        "print (some_dictionary['student1'])"
      ]
    },
    {
      "cell_type": "markdown",
      "metadata": {
        "id": "jY-Q23L-EWbK"
      },
      "source": [
        "For more customizable string creation and printing, python also includes rich formatting capability that may be familiar to developers of other high-level programming language. Some examples are below. In a nutshell, one adds placeholders to the string being constructed. These placeholders always start with a `%` followed by some additional information that determines how the data will be formatted. After the string, another `%` is used, followed by the acutal data that is to be inserted in the prior placeholders. The full capabilities of python string formatting are beyond the scope of this primer, for more info, please consult the [offical documentation](https://docs.python.org/2/library/stdtypes.html#string-formatting)."
      ]
    },
    {
      "cell_type": "code",
      "execution_count": 11,
      "metadata": {
        "id": "FdLgz4H3EWbL",
        "outputId": "8a2078b7-eb1d-4f10-f7cb-a037bc80eaa4",
        "colab": {
          "base_uri": "https://localhost:8080/"
        }
      },
      "outputs": [
        {
          "output_type": "stream",
          "name": "stdout",
          "text": [
            "generic STRING formatting, equivalent to the str() functionality seen earlier\n",
            "an example with zero padding an integer 005 and multiple PLACEHOLDERS\n",
            "often one wants to truncate the precision when displaying floats 3.142\n"
          ]
        }
      ],
      "source": [
        "print (\"generic %s formatting, equivalent to the str() functionality seen earlier\" % \"STRING\")\n",
        "print (\"an example with zero padding an integer %003d and multiple %s\" % (5, \"PLACEHOLDERS\"))\n",
        "print (\"often one wants to truncate the precision when displaying floats %.3f\" % 3.1415926536)"
      ]
    },
    {
      "cell_type": "markdown",
      "metadata": {
        "id": "H2SeUarkEWbL"
      },
      "source": [
        "### 2. Create functions"
      ]
    },
    {
      "cell_type": "markdown",
      "metadata": {
        "id": "TPp65yIHEWbL"
      },
      "source": [
        "Functions allow us to execute predefined operations and to define our own operations that will be available later.  They encapsulate procedures. If we know we are likely to execute some operation many times, we may want to save time, to avoid repeated code, and often to clarify what we are doing.  To do this, we would define a function.  \n",
        "\n",
        "(*If you haven't thought this through before, consider the drawback of repeated code: what if later you realize that you need to fix something in that code block.  You'd have to go through and fix it everywhere.*) \n",
        "\n",
        "For example, consider having to calculate the area of a circle."
      ]
    },
    {
      "cell_type": "code",
      "execution_count": 12,
      "metadata": {
        "collapsed": true,
        "id": "VZUR0glZEWbL"
      },
      "outputs": [],
      "source": [
        "def area_of_a_circle(radius):\n",
        "    area = 3.1416 * radius ** 2\n",
        "    return area"
      ]
    },
    {
      "cell_type": "code",
      "execution_count": 13,
      "metadata": {
        "id": "F70MtEKTEWbL",
        "outputId": "e959f3a9-65ba-4143-f76d-eef4abe7c0fd",
        "colab": {
          "base_uri": "https://localhost:8080/"
        }
      },
      "outputs": [
        {
          "output_type": "stream",
          "name": "stdout",
          "text": [
            "Area of a circle with radius 5 is: 78.53999999999999\n"
          ]
        }
      ],
      "source": [
        "circle_area = area_of_a_circle(5)\n",
        "print (\"Area of a circle with radius 5 is: \" + str( circle_area))"
      ]
    },
    {
      "cell_type": "markdown",
      "metadata": {
        "id": "0Me5y5MWEWbL"
      },
      "source": [
        "Can you see what is going on here? My function that I helpfully named `\"area_of_a_circle\"` takes one **argument** that we will call radius. It then uses this radius to get the area and then *returns* it. Now, whenever I want to get the area of some circle, I simply call `area_of_a_circle()` and place the radius in the middle of the parentheses."
      ]
    },
    {
      "cell_type": "markdown",
      "metadata": {
        "id": "_nhkkivtEWbM"
      },
      "source": [
        "### 3. Loops / iterations"
      ]
    },
    {
      "cell_type": "markdown",
      "metadata": {
        "id": "TwQbUrt7EWbM"
      },
      "source": [
        "For data analysis we do a lot of repetitive things. This doesn't mean we need to do a ton of copy and pasting, though. We can use **loops** to make this easy. As a very simple example, what if we wanted to square each number from 1 to 5?"
      ]
    },
    {
      "cell_type": "code",
      "execution_count": 14,
      "metadata": {
        "id": "5AOva_DKEWbM",
        "outputId": "73ccc01c-18d4-4d66-bf9d-28b28a93e5da",
        "colab": {
          "base_uri": "https://localhost:8080/"
        }
      },
      "outputs": [
        {
          "output_type": "stream",
          "name": "stdout",
          "text": [
            "1\n",
            "4\n",
            "9\n",
            "16\n",
            "25\n"
          ]
        }
      ],
      "source": [
        "for number in [1, 2, 3, 4, 5]:\n",
        "    print (number * number)"
      ]
    },
    {
      "cell_type": "markdown",
      "metadata": {
        "id": "6UZMV6OWEWbM"
      },
      "source": [
        "Let's use the function we did before. Remember this is a function that can only be used in **this notebook** \n",
        "\n",
        "( unless we write a **\"script\"** file, but we'll see that later... ):"
      ]
    },
    {
      "cell_type": "code",
      "execution_count": 15,
      "metadata": {
        "id": "vs_0zOVMEWbM",
        "outputId": "3268ffa1-e8dc-4978-c177-7a9dea6053a8",
        "colab": {
          "base_uri": "https://localhost:8080/"
        }
      },
      "outputs": [
        {
          "output_type": "stream",
          "name": "stdout",
          "text": [
            "Area of circle with radius 1 is: 3.1416\n",
            "Area of circle with radius 2 is: 12.5664\n",
            "Area of circle with radius 3 is: 28.2744\n",
            "Area of circle with radius 4 is: 50.2656\n",
            "Area of circle with radius 5 is: 78.53999999999999\n"
          ]
        }
      ],
      "source": [
        "for number in [1, 2, 3, 4, 5]:\n",
        "    print (\"Area of circle with radius \" + str(number) + \" is: \" + str( area_of_a_circle(number) ))"
      ]
    },
    {
      "cell_type": "markdown",
      "metadata": {
        "id": "K9UBEHiNEWbM"
      },
      "source": [
        "### 4. Conditionals and comparisons"
      ]
    },
    {
      "cell_type": "markdown",
      "metadata": {
        "id": "df7TAOWsEWbM"
      },
      "source": [
        "Sometimes we need to check something before deciding what to do next. For example,"
      ]
    },
    {
      "cell_type": "code",
      "execution_count": 16,
      "metadata": {
        "collapsed": true,
        "id": "wZKX6nt6EWbN"
      },
      "outputs": [],
      "source": [
        "def is_best_prof(name):\n",
        "    if name == \"Foster\":\n",
        "        return True\n",
        "    else:\n",
        "        return False"
      ]
    },
    {
      "cell_type": "code",
      "execution_count": 17,
      "metadata": {
        "id": "gShLS9n7EWbN",
        "outputId": "68150dfd-748c-4ebe-8293-053550d27f80",
        "colab": {
          "base_uri": "https://localhost:8080/"
        }
      },
      "outputs": [
        {
          "output_type": "stream",
          "name": "stdout",
          "text": [
            "True\n"
          ]
        }
      ],
      "source": [
        "print (is_best_prof(\"Foster\"))"
      ]
    },
    {
      "cell_type": "code",
      "execution_count": 18,
      "metadata": {
        "id": "KFvwjm73EWbN",
        "outputId": "def44a0a-67a8-419c-c472-7b923667dedd",
        "colab": {
          "base_uri": "https://localhost:8080/"
        }
      },
      "outputs": [
        {
          "output_type": "stream",
          "name": "stdout",
          "text": [
            "False\n"
          ]
        }
      ],
      "source": [
        "print (is_best_prof(\"John\"))"
      ]
    },
    {
      "cell_type": "code",
      "execution_count": 19,
      "metadata": {
        "id": "daB3HCKoEWbN",
        "outputId": "ed5fdeed-f30b-446e-8a3e-b832b532250b",
        "colab": {
          "base_uri": "https://localhost:8080/"
        }
      },
      "outputs": [
        {
          "output_type": "stream",
          "name": "stdout",
          "text": [
            "You're going to have a great semester!\n"
          ]
        }
      ],
      "source": [
        "my_prof = \"Foster\"\n",
        "if is_best_prof(my_prof):\n",
        "    print(\"You're going to have a great semester!\")\n",
        "else:\n",
        "    print(\"Well, make the best of it!\")"
      ]
    },
    {
      "cell_type": "markdown",
      "metadata": {
        "id": "_wPaNDNbEWbN"
      },
      "source": [
        "You see in that last one how we have a conditional in the cell, and then call a function that has a conditional inside it?  \n",
        "\n",
        "Let's put a whole bunch of these things together:"
      ]
    },
    {
      "cell_type": "code",
      "execution_count": 20,
      "metadata": {
        "id": "63MF0-ZiEWbN",
        "outputId": "5973ad24-894c-45b1-8190-e10a3026e100",
        "colab": {
          "base_uri": "https://localhost:8080/"
        }
      },
      "outputs": [
        {
          "output_type": "stream",
          "name": "stdout",
          "text": [
            "Well, make the best of it!\n"
          ]
        }
      ],
      "source": [
        "my_profs = [\"John\", \"Paul\", \"George\", \"Ringo\"]\n",
        "one_best = False\n",
        "for prof in my_profs:\n",
        "    if is_best_prof(prof):\n",
        "        one_best = True\n",
        "if one_best:\n",
        "    print(\"You're going to have a great semester!\")\n",
        "else:\n",
        "    print(\"Well, make the best of it!\")"
      ]
    },
    {
      "cell_type": "markdown",
      "metadata": {
        "id": "iVCSs9JnEWbN"
      },
      "source": [
        "As we can see here, we made **comparison** of names with the \"equal\" operation  (==).  Remember ... it's == not just = !\n",
        "\n",
        "Other comparisons:\n",
        "\n",
        "- strictly less than  < \n",
        "- less than or equal  <=\n",
        "- strictly greater than  >\n",
        "- greater than or equal  >=\n",
        "- not equal  !=\n",
        "- object identity  \"is\"\n",
        "- negated object identity \"is not\"\n",
        "\n",
        "What if we want to compare more than one element? \n",
        "We should include logical operations such as:\n",
        "\n",
        "- \"and\", also known as \"&&\" \n",
        "- \"or\", also known as \"||\"\n",
        "\n",
        "Let's see if you can guess my age with this function!!\n"
      ]
    },
    {
      "cell_type": "code",
      "execution_count": 21,
      "metadata": {
        "collapsed": true,
        "id": "m-UkXehrEWbO"
      },
      "outputs": [],
      "source": [
        "def is_my_age(age_argument):\n",
        "    if age_argument < 20:\n",
        "        return \"Of course not!\"\n",
        "    elif (age_argument >= 20) & (age_argument <= 40):\n",
        "        return \"Maybe..\"\n",
        "    elif age_argument > 40:\n",
        "        return \"Don't even think about it!\""
      ]
    },
    {
      "cell_type": "code",
      "execution_count": 22,
      "metadata": {
        "id": "qiuvNbgpEWbO",
        "outputId": "149ffba1-8a60-4d85-d7e2-ab46aff12c55",
        "colab": {
          "base_uri": "https://localhost:8080/"
        }
      },
      "outputs": [
        {
          "output_type": "stream",
          "name": "stdout",
          "text": [
            "Of course not!\n"
          ]
        }
      ],
      "source": [
        "print (is_my_age(10))"
      ]
    },
    {
      "cell_type": "code",
      "execution_count": 23,
      "metadata": {
        "id": "QQYBnw8rEWbO",
        "outputId": "52344a26-96cf-4697-b6aa-257943ab5f84",
        "colab": {
          "base_uri": "https://localhost:8080/"
        }
      },
      "outputs": [
        {
          "output_type": "stream",
          "name": "stdout",
          "text": [
            "Maybe..\n"
          ]
        }
      ],
      "source": [
        "print (is_my_age(23))"
      ]
    },
    {
      "cell_type": "code",
      "execution_count": 24,
      "metadata": {
        "id": "14vbYG9eEWbO",
        "outputId": "98b446ca-546f-4789-a742-6747fcc8432a",
        "colab": {
          "base_uri": "https://localhost:8080/"
        }
      },
      "outputs": [
        {
          "output_type": "stream",
          "name": "stdout",
          "text": [
            "Don't even think about it!\n"
          ]
        }
      ],
      "source": [
        "print (is_my_age(80))"
      ]
    },
    {
      "cell_type": "markdown",
      "metadata": {
        "id": "UrbEpCJXEWbO"
      },
      "source": [
        "## Help, help, and more help!"
      ]
    },
    {
      "cell_type": "markdown",
      "metadata": {
        "id": "BpRg2bsZEWbO"
      },
      "source": [
        "- [Codecademy's Python Course](https://www.codecademy.com/learn/learn-python-3). Working though this class will give you a _great_ foundation for Python.\n",
        "- [Diving into Python](http://diveinto.org/python3/) online book. Working your way from chapter 1 through chapter 5 would put you in a very nice place!\n",
        "- [Python for Data Analysis](https://www.amazon.com/Python-Data-Analysis-Wrangling-IPython-ebook/dp/B009NLMB8Q/ref=mt_kindle?_encoding=UTF8&me=) was the book that Prof. Foster suggested to prior iterations of this course. You can take a look at the chapters: Preliminaries, Introductory Examples (e.g. \"Counting Time Zones with pandas”), IPython (page 46 to 62) and specially, Pandas--one of the main Python packages for data analysis.  We will work with Pandas in class.\n",
        "- [Pandas Cookbook](https://www.amazon.com/Pandas-Cookbook-Scientific-Computing-Visualization/dp/1784393878) is another great resource to learn Pandas. It has lots of practice problems with detailed solutions in IPython notebooks.\n",
        "\n",
        "\n",
        "If you are ever stuck just remember: it is normal. This is actually how professional programmers work every day. Google is your best friend. `stackoverflow`, a popular programming question and answer site, has an extremely rich repository of solutions to problems that people have encountered, and many capable participants provide answers to those mysterious and rare problems that have not been addressed before. Just remember to look thoroughly before you ask! \n",
        "\n",
        "Finally, programming is a creative process- it can't be brute forced. It's natural to get stuck or frustrated from time to time, even with the incredible resources that are now available. Imagine an author trying to find the perfect paragraph to describe a character. In these situations, I like to go for a walk, listen to some music, or get some exercise. Anything to clear my head. From experience, many seemingly hard programming problems have become solvable only after introducing some fresh perspective, and being stuck while beating your head on the keyboard just isn't fun. "
      ]
    },
    {
      "cell_type": "code",
      "source": [
        ""
      ],
      "metadata": {
        "id": "gZz0Jeu3FY-t"
      },
      "execution_count": null,
      "outputs": []
    }
  ],
  "metadata": {
    "kernelspec": {
      "display_name": "Python 3",
      "language": "python",
      "name": "python3"
    },
    "language_info": {
      "codemirror_mode": {
        "name": "ipython",
        "version": 3
      },
      "file_extension": ".py",
      "mimetype": "text/x-python",
      "name": "python",
      "nbconvert_exporter": "python",
      "pygments_lexer": "ipython3",
      "version": "3.8.5"
    },
    "colab": {
      "name": "Python basics.ipynb",
      "provenance": []
    }
  },
  "nbformat": 4,
  "nbformat_minor": 0
}