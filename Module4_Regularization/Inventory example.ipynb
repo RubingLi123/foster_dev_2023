{
  "cells": [
    {
      "cell_type": "markdown",
      "metadata": {
        "id": "XmyOLeeB6k0w"
      },
      "source": [
        "To open notebook in Colab please click below:\n",
        "<a href=\"https://colab.research.google.com/github/pearl-yu/foster_2022/blob/2022-master/Module4_Regularization/Inventory%20example.ipynb\" target=\"_parent\"> <img src=\"https://colab.research.google.com/assets/colab-badge.svg\" alt=\"Open In Colab\" /> </a>"
      ]
    },
    {
      "cell_type": "code",
      "execution_count": null,
      "metadata": {
        "collapsed": true,
        "id": "FyyQVYeA6k0z",
        "outputId": "7f643ea7-2fc2-4caf-f0a3-02262ff79f2a"
      },
      "outputs": [
        {
          "name": "stdout",
          "output_type": "stream",
          "text": [
            "Cloning into 'foster_in_dev'...\n",
            "remote: Enumerating objects: 53, done.\u001b[K\n",
            "remote: Counting objects: 100% (53/53), done.\u001b[K\n",
            "remote: Compressing objects: 100% (34/34), done.\u001b[K\n",
            "^Cceiving objects:  20% (124/599), 1.21 MiB | 106.00 KiB/s     \n",
            "[Errno 2] No such file or directory: 'foster_in_dev/Module4_Regularization/'\n",
            "/Users/benwolfson/Documents/Graduate_School/Year_1/spring_2019_data_mining/Module4_Regularization\n"
          ]
        }
      ],
      "source": [
        "#If opening in colab run this cell\n",
        "!git clone https://github.com/pearl-yu/foster_2022\n",
        "%cd foster_2022/Module4_Regularization/"
      ]
    },
    {
      "cell_type": "markdown",
      "metadata": {
        "id": "EiFEbMB46k00"
      },
      "source": [
        "# Inventory example\n",
        "\n",
        "You're the operations manager of a firm that sells widgets, and you have been tasked with reducing delivery and inventory costs. To accomplish this, you requested data about the historical monthly demand of widgets in various customer locations ($Y$) and some other features about those locations ($X$). You also split the data into a training set and a test set."
      ]
    },
    {
      "cell_type": "code",
      "execution_count": null,
      "metadata": {
        "collapsed": true,
        "id": "DksRY5w36k01"
      },
      "outputs": [],
      "source": [
        "import numpy as np\n",
        "import matplotlib.pyplot as plt\n",
        "import pandas as pd\n",
        "\n",
        "# Load data\n",
        "df_train = pd.read_csv(\"data/inventory_training.csv\")\n",
        "df_test = pd.read_csv(\"data/inventory_test.csv\")\n",
        "df_train.head()"
      ]
    },
    {
      "cell_type": "markdown",
      "metadata": {
        "id": "jOW4oGaa6k01"
      },
      "source": [
        "Use the training data to fit a data mining model. Remember to import whatever you want to use from sklearn!"
      ]
    },
    {
      "cell_type": "code",
      "execution_count": null,
      "metadata": {
        "collapsed": true,
        "id": "69YpT8qj6k01"
      },
      "outputs": [],
      "source": [
        "target = \"Y\"\n",
        "predictors = df_train.columns[df_train.columns != target]\n",
        "model = None # Create and fit your model here! "
      ]
    },
    {
      "cell_type": "markdown",
      "metadata": {
        "id": "vRBHydg76k02"
      },
      "source": [
        "Now, suppose that at the beginning of every month you have to pre-stock customer locations with widgets. Every extra unit that you stock will cost you \\$1 inventory cost. Every widget that you don't have on hand will cost you \\$1 delivery cost. According to the function below, what would be the total cost if we had used the model to predict $Y$ in the training set?"
      ]
    },
    {
      "cell_type": "code",
      "execution_count": null,
      "metadata": {
        "collapsed": true,
        "id": "OhOsGPaS6k02"
      },
      "outputs": [],
      "source": [
        "def total_cost(predictions, demand, inventory_cost=1, delivery_cost=1):\n",
        "    errors = demand - predictions\n",
        "    cost = ((errors > 0) * errors * delivery_cost + (errors < 0) * -1 * errors * inventory_cost).sum()\n",
        "    return \"${:,}\".format(round(cost))\n",
        "\n",
        "train_predictions = 0 # Put in this line your predictions in the TRAINING set.\n",
        "\n",
        "model_cost = total_cost(train_predictions, df_train[target])\n",
        "print(\"Total cost of your model: \", model_cost)"
      ]
    },
    {
      "cell_type": "markdown",
      "metadata": {
        "id": "0g8W0Hit6k03"
      },
      "source": [
        "What if we had used the mean instead? Does it work better than the model?"
      ]
    },
    {
      "cell_type": "code",
      "execution_count": null,
      "metadata": {
        "collapsed": true,
        "id": "Ea3cpOL56k03"
      },
      "outputs": [],
      "source": [
        "mean = df_train[target].mean()\n",
        "mean_cost = total_cost(mean, df_train[target])\n",
        "print(\"Total cost of the mean: \", mean_cost)"
      ]
    },
    {
      "cell_type": "markdown",
      "metadata": {
        "id": "zsnNbZum6k04"
      },
      "source": [
        "Let's repeat the same steps but using the test set. What works better, the mean or your model?"
      ]
    },
    {
      "cell_type": "code",
      "execution_count": null,
      "metadata": {
        "collapsed": true,
        "id": "RNzolLrz6k04"
      },
      "outputs": [],
      "source": [
        "test_predictions = 0 # Put in this line your predictions in the TEST set.\n",
        "\n",
        "model_cost = total_cost(test_predictions, df_test[target])\n",
        "print(\"Total cost of your model: \", model_cost)\n",
        "mean_cost = total_cost(mean, df_test[target])\n",
        "print(\"Total cost of the mean: \", mean_cost)"
      ]
    },
    {
      "cell_type": "markdown",
      "metadata": {
        "id": "lfZSr0TN6k04"
      },
      "source": [
        "Can you think of any other way to do better than the mean or the model? Try it out here!"
      ]
    },
    {
      "cell_type": "code",
      "execution_count": null,
      "metadata": {
        "collapsed": true,
        "id": "bqOVBsFA6k05"
      },
      "outputs": [],
      "source": [
        "better_predictions = 0 # Put here the predictions of your new proposal in the TEST set.\n",
        "\n",
        "new_cost = total_cost(better_predictions, df_test[target])\n",
        "print(\"Total cost of your new proposal: \", new_cost)"
      ]
    }
  ],
  "metadata": {
    "kernelspec": {
      "display_name": "Python 3",
      "language": "python",
      "name": "python3"
    },
    "language_info": {
      "codemirror_mode": {
        "name": "ipython",
        "version": 3
      },
      "file_extension": ".py",
      "mimetype": "text/x-python",
      "name": "python",
      "nbconvert_exporter": "python",
      "pygments_lexer": "ipython3",
      "version": "3.6.9"
    },
    "colab": {
      "name": "Inventory example.ipynb",
      "provenance": []
    }
  },
  "nbformat": 4,
  "nbformat_minor": 0
}