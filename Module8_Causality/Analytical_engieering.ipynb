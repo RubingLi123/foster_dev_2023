{
  "nbformat": 4,
  "nbformat_minor": 0,
  "metadata": {
    "colab": {
      "provenance": [],
      "include_colab_link": true
    },
    "kernelspec": {
      "display_name": "Python 3",
      "language": "python",
      "name": "python3"
    },
    "language_info": {
      "codemirror_mode": {
        "name": "ipython",
        "version": 3
      },
      "file_extension": ".py",
      "mimetype": "text/x-python",
      "name": "python",
      "nbconvert_exporter": "python",
      "pygments_lexer": "ipython3",
      "version": "3.7.3"
    }
  },
  "cells": [
    {
      "cell_type": "markdown",
      "metadata": {
        "id": "view-in-github",
        "colab_type": "text"
      },
      "source": [
        "<a href=\"https://colab.research.google.com/github/pearl-yu/foster_2022/blob/2022-master/Module8_Causality/Analytical_engieering.ipynb\" target=\"_parent\"><img src=\"https://colab.research.google.com/assets/colab-badge.svg\" alt=\"Open In Colab\"/></a>"
      ]
    },
    {
      "cell_type": "code",
      "metadata": {
        "collapsed": true,
        "id": "InCqufkHLvMm"
      },
      "source": [
        "#If opening in colab run this cell\n",
        "!git clone https://github.com/pearl-yu/foster_2022\n",
        "%cd foster_2022/Module8_Causality/"
      ],
      "execution_count": null,
      "outputs": []
    },
    {
      "cell_type": "markdown",
      "metadata": {
        "id": "DFaN0JqULvNI"
      },
      "source": [
        "# Toward Analytical Engineering\n",
        "\n",
        "\n",
        "Fall 2022 - Instructors: Foster Provost and Pearl Yu\n",
        "Teaching Assistant: Pearl Yu\n",
        "\n",
        "***"
      ]
    },
    {
      "cell_type": "code",
      "source": [
        "import numpy as np\n",
        "import pandas as pd\n",
        "import matplotlib.pyplot as plt\n",
        "from sklearn.model_selection import train_test_split\n",
        "from sklearn.model_selection import cross_val_score\n",
        "from sklearn.model_selection import GridSearchCV\n",
        "from sklearn.linear_model import LogisticRegression\n",
        "from sklearn.tree import DecisionTreeRegressor\n",
        "from sklearn.linear_model import Ridge\n",
        "\n",
        "# just ignore the warning messages for cleaner display\n",
        "import warnings\n",
        "warnings.filterwarnings('ignore')"
      ],
      "metadata": {
        "id": "J_ijCfRwDWzt"
      },
      "execution_count": 20,
      "outputs": []
    },
    {
      "cell_type": "markdown",
      "metadata": {
        "id": "Orw_IlwULvNZ"
      },
      "source": [
        "### Data\n",
        "We're going to use the same mail response data set from a real direct marketing campaign as in Module 5. Each record represents an individual who was targeted with a direct marketing offer.  The offer was a solicitation to make a charitable donation. \n",
        "\n",
        "The columns (features) are:\n",
        "\n",
        "```\n",
        "income       household income\n",
        "Firstdate    data assoc. with the first gift by this individual\n",
        "Lastdate     data associated with the most recent gift \n",
        "rfaf2        frequency code\n",
        "rfaa2        donation amount code\n",
        "pepstrfl     flag indicating a star donator\n",
        "glast        amount of last gift\n",
        "gavr         amount of average gift\n",
        "```\n",
        "\n",
        "The target variables is `class` and is equal to one if they gave in this campaign and zero otherwise."
      ]
    },
    {
      "cell_type": "code",
      "metadata": {
        "id": "tTxcwq11LvNd",
        "scrolled": false,
        "colab": {
          "base_uri": "https://localhost:8080/",
          "height": 206
        },
        "outputId": "1c3b61f4-f12c-45b1-b845-0a5471a816a7"
      },
      "source": [
        "# Load the data\n",
        "df = pd.read_csv(\"donation.csv\",index_col=0)\n",
        "# Let's take a look at the data\n",
        "df.head()"
      ],
      "execution_count": null,
      "outputs": [
        {
          "output_type": "execute_result",
          "data": {
            "text/plain": [
              "     Income  Firstdate  Lastdate  rfaf2 rfaa2 pepstrfl  glast       gavr  \\\n",
              "0  3.886248       8911      9512      4     E        X   10.0   7.741935   \n",
              "1  6.000000       9310      9512      2     G        0   25.0  15.666667   \n",
              "2  3.000000       9001      9512      4     E        X    5.0   7.481481   \n",
              "3  1.000000       8702      9512      4     E        X   10.0   6.812500   \n",
              "4  3.000000       7903      9601      2     F        0   15.0   6.864865   \n",
              "\n",
              "   class  donation  \n",
              "0      0       0.0  \n",
              "1      0       0.0  \n",
              "2      0       0.0  \n",
              "3      0       0.0  \n",
              "4      0       0.0  "
            ],
            "text/html": [
              "\n",
              "  <div id=\"df-22ae0e83-2fe7-43ca-8dbe-89972b6733f2\">\n",
              "    <div class=\"colab-df-container\">\n",
              "      <div>\n",
              "<style scoped>\n",
              "    .dataframe tbody tr th:only-of-type {\n",
              "        vertical-align: middle;\n",
              "    }\n",
              "\n",
              "    .dataframe tbody tr th {\n",
              "        vertical-align: top;\n",
              "    }\n",
              "\n",
              "    .dataframe thead th {\n",
              "        text-align: right;\n",
              "    }\n",
              "</style>\n",
              "<table border=\"1\" class=\"dataframe\">\n",
              "  <thead>\n",
              "    <tr style=\"text-align: right;\">\n",
              "      <th></th>\n",
              "      <th>Income</th>\n",
              "      <th>Firstdate</th>\n",
              "      <th>Lastdate</th>\n",
              "      <th>rfaf2</th>\n",
              "      <th>rfaa2</th>\n",
              "      <th>pepstrfl</th>\n",
              "      <th>glast</th>\n",
              "      <th>gavr</th>\n",
              "      <th>class</th>\n",
              "      <th>donation</th>\n",
              "    </tr>\n",
              "  </thead>\n",
              "  <tbody>\n",
              "    <tr>\n",
              "      <th>0</th>\n",
              "      <td>3.886248</td>\n",
              "      <td>8911</td>\n",
              "      <td>9512</td>\n",
              "      <td>4</td>\n",
              "      <td>E</td>\n",
              "      <td>X</td>\n",
              "      <td>10.0</td>\n",
              "      <td>7.741935</td>\n",
              "      <td>0</td>\n",
              "      <td>0.0</td>\n",
              "    </tr>\n",
              "    <tr>\n",
              "      <th>1</th>\n",
              "      <td>6.000000</td>\n",
              "      <td>9310</td>\n",
              "      <td>9512</td>\n",
              "      <td>2</td>\n",
              "      <td>G</td>\n",
              "      <td>0</td>\n",
              "      <td>25.0</td>\n",
              "      <td>15.666667</td>\n",
              "      <td>0</td>\n",
              "      <td>0.0</td>\n",
              "    </tr>\n",
              "    <tr>\n",
              "      <th>2</th>\n",
              "      <td>3.000000</td>\n",
              "      <td>9001</td>\n",
              "      <td>9512</td>\n",
              "      <td>4</td>\n",
              "      <td>E</td>\n",
              "      <td>X</td>\n",
              "      <td>5.0</td>\n",
              "      <td>7.481481</td>\n",
              "      <td>0</td>\n",
              "      <td>0.0</td>\n",
              "    </tr>\n",
              "    <tr>\n",
              "      <th>3</th>\n",
              "      <td>1.000000</td>\n",
              "      <td>8702</td>\n",
              "      <td>9512</td>\n",
              "      <td>4</td>\n",
              "      <td>E</td>\n",
              "      <td>X</td>\n",
              "      <td>10.0</td>\n",
              "      <td>6.812500</td>\n",
              "      <td>0</td>\n",
              "      <td>0.0</td>\n",
              "    </tr>\n",
              "    <tr>\n",
              "      <th>4</th>\n",
              "      <td>3.000000</td>\n",
              "      <td>7903</td>\n",
              "      <td>9601</td>\n",
              "      <td>2</td>\n",
              "      <td>F</td>\n",
              "      <td>0</td>\n",
              "      <td>15.0</td>\n",
              "      <td>6.864865</td>\n",
              "      <td>0</td>\n",
              "      <td>0.0</td>\n",
              "    </tr>\n",
              "  </tbody>\n",
              "</table>\n",
              "</div>\n",
              "      <button class=\"colab-df-convert\" onclick=\"convertToInteractive('df-22ae0e83-2fe7-43ca-8dbe-89972b6733f2')\"\n",
              "              title=\"Convert this dataframe to an interactive table.\"\n",
              "              style=\"display:none;\">\n",
              "        \n",
              "  <svg xmlns=\"http://www.w3.org/2000/svg\" height=\"24px\"viewBox=\"0 0 24 24\"\n",
              "       width=\"24px\">\n",
              "    <path d=\"M0 0h24v24H0V0z\" fill=\"none\"/>\n",
              "    <path d=\"M18.56 5.44l.94 2.06.94-2.06 2.06-.94-2.06-.94-.94-2.06-.94 2.06-2.06.94zm-11 1L8.5 8.5l.94-2.06 2.06-.94-2.06-.94L8.5 2.5l-.94 2.06-2.06.94zm10 10l.94 2.06.94-2.06 2.06-.94-2.06-.94-.94-2.06-.94 2.06-2.06.94z\"/><path d=\"M17.41 7.96l-1.37-1.37c-.4-.4-.92-.59-1.43-.59-.52 0-1.04.2-1.43.59L10.3 9.45l-7.72 7.72c-.78.78-.78 2.05 0 2.83L4 21.41c.39.39.9.59 1.41.59.51 0 1.02-.2 1.41-.59l7.78-7.78 2.81-2.81c.8-.78.8-2.07 0-2.86zM5.41 20L4 18.59l7.72-7.72 1.47 1.35L5.41 20z\"/>\n",
              "  </svg>\n",
              "      </button>\n",
              "      \n",
              "  <style>\n",
              "    .colab-df-container {\n",
              "      display:flex;\n",
              "      flex-wrap:wrap;\n",
              "      gap: 12px;\n",
              "    }\n",
              "\n",
              "    .colab-df-convert {\n",
              "      background-color: #E8F0FE;\n",
              "      border: none;\n",
              "      border-radius: 50%;\n",
              "      cursor: pointer;\n",
              "      display: none;\n",
              "      fill: #1967D2;\n",
              "      height: 32px;\n",
              "      padding: 0 0 0 0;\n",
              "      width: 32px;\n",
              "    }\n",
              "\n",
              "    .colab-df-convert:hover {\n",
              "      background-color: #E2EBFA;\n",
              "      box-shadow: 0px 1px 2px rgba(60, 64, 67, 0.3), 0px 1px 3px 1px rgba(60, 64, 67, 0.15);\n",
              "      fill: #174EA6;\n",
              "    }\n",
              "\n",
              "    [theme=dark] .colab-df-convert {\n",
              "      background-color: #3B4455;\n",
              "      fill: #D2E3FC;\n",
              "    }\n",
              "\n",
              "    [theme=dark] .colab-df-convert:hover {\n",
              "      background-color: #434B5C;\n",
              "      box-shadow: 0px 1px 3px 1px rgba(0, 0, 0, 0.15);\n",
              "      filter: drop-shadow(0px 1px 2px rgba(0, 0, 0, 0.3));\n",
              "      fill: #FFFFFF;\n",
              "    }\n",
              "  </style>\n",
              "\n",
              "      <script>\n",
              "        const buttonEl =\n",
              "          document.querySelector('#df-22ae0e83-2fe7-43ca-8dbe-89972b6733f2 button.colab-df-convert');\n",
              "        buttonEl.style.display =\n",
              "          google.colab.kernel.accessAllowed ? 'block' : 'none';\n",
              "\n",
              "        async function convertToInteractive(key) {\n",
              "          const element = document.querySelector('#df-22ae0e83-2fe7-43ca-8dbe-89972b6733f2');\n",
              "          const dataTable =\n",
              "            await google.colab.kernel.invokeFunction('convertToInteractive',\n",
              "                                                     [key], {});\n",
              "          if (!dataTable) return;\n",
              "\n",
              "          const docLinkHtml = 'Like what you see? Visit the ' +\n",
              "            '<a target=\"_blank\" href=https://colab.research.google.com/notebooks/data_table.ipynb>data table notebook</a>'\n",
              "            + ' to learn more about interactive tables.';\n",
              "          element.innerHTML = '';\n",
              "          dataTable['output_type'] = 'display_data';\n",
              "          await google.colab.output.renderOutput(dataTable, element);\n",
              "          const docLink = document.createElement('div');\n",
              "          docLink.innerHTML = docLinkHtml;\n",
              "          element.appendChild(docLink);\n",
              "        }\n",
              "      </script>\n",
              "    </div>\n",
              "  </div>\n",
              "  "
            ]
          },
          "metadata": {},
          "execution_count": 2
        }
      ]
    },
    {
      "cell_type": "code",
      "metadata": {
        "id": "0JDBX7gFLvNp",
        "scrolled": false,
        "colab": {
          "base_uri": "https://localhost:8080/",
          "height": 206
        },
        "outputId": "28ddc31f-b174-4dc9-96cb-a1d709d95a53"
      },
      "source": [
        "# Get dummies for the two categorical variables cuz we'll run a logistic regression later.\n",
        "for field in ['rfaa2', 'pepstrfl']:\n",
        "    dummies = pd.get_dummies(df[field])\n",
        "    dummies.columns = [field + \"_\" + s for s in dummies.columns]\n",
        "    df = pd.concat([df, dummies], axis=1).drop(field, axis=\"columns\")\n",
        "    \n",
        "df.head()"
      ],
      "execution_count": null,
      "outputs": [
        {
          "output_type": "execute_result",
          "data": {
            "text/plain": [
              "     Income  Firstdate  Lastdate  rfaf2  glast       gavr  class  donation  \\\n",
              "0  3.886248       8911      9512      4   10.0   7.741935      0       0.0   \n",
              "1  6.000000       9310      9512      2   25.0  15.666667      0       0.0   \n",
              "2  3.000000       9001      9512      4    5.0   7.481481      0       0.0   \n",
              "3  1.000000       8702      9512      4   10.0   6.812500      0       0.0   \n",
              "4  3.000000       7903      9601      2   15.0   6.864865      0       0.0   \n",
              "\n",
              "   rfaa2_D  rfaa2_E  rfaa2_F  rfaa2_G  pepstrfl_0  pepstrfl_X  \n",
              "0        0        1        0        0           0           1  \n",
              "1        0        0        0        1           1           0  \n",
              "2        0        1        0        0           0           1  \n",
              "3        0        1        0        0           0           1  \n",
              "4        0        0        1        0           1           0  "
            ],
            "text/html": [
              "\n",
              "  <div id=\"df-e383e506-590e-4818-9938-0ab41cccadb3\">\n",
              "    <div class=\"colab-df-container\">\n",
              "      <div>\n",
              "<style scoped>\n",
              "    .dataframe tbody tr th:only-of-type {\n",
              "        vertical-align: middle;\n",
              "    }\n",
              "\n",
              "    .dataframe tbody tr th {\n",
              "        vertical-align: top;\n",
              "    }\n",
              "\n",
              "    .dataframe thead th {\n",
              "        text-align: right;\n",
              "    }\n",
              "</style>\n",
              "<table border=\"1\" class=\"dataframe\">\n",
              "  <thead>\n",
              "    <tr style=\"text-align: right;\">\n",
              "      <th></th>\n",
              "      <th>Income</th>\n",
              "      <th>Firstdate</th>\n",
              "      <th>Lastdate</th>\n",
              "      <th>rfaf2</th>\n",
              "      <th>glast</th>\n",
              "      <th>gavr</th>\n",
              "      <th>class</th>\n",
              "      <th>donation</th>\n",
              "      <th>rfaa2_D</th>\n",
              "      <th>rfaa2_E</th>\n",
              "      <th>rfaa2_F</th>\n",
              "      <th>rfaa2_G</th>\n",
              "      <th>pepstrfl_0</th>\n",
              "      <th>pepstrfl_X</th>\n",
              "    </tr>\n",
              "  </thead>\n",
              "  <tbody>\n",
              "    <tr>\n",
              "      <th>0</th>\n",
              "      <td>3.886248</td>\n",
              "      <td>8911</td>\n",
              "      <td>9512</td>\n",
              "      <td>4</td>\n",
              "      <td>10.0</td>\n",
              "      <td>7.741935</td>\n",
              "      <td>0</td>\n",
              "      <td>0.0</td>\n",
              "      <td>0</td>\n",
              "      <td>1</td>\n",
              "      <td>0</td>\n",
              "      <td>0</td>\n",
              "      <td>0</td>\n",
              "      <td>1</td>\n",
              "    </tr>\n",
              "    <tr>\n",
              "      <th>1</th>\n",
              "      <td>6.000000</td>\n",
              "      <td>9310</td>\n",
              "      <td>9512</td>\n",
              "      <td>2</td>\n",
              "      <td>25.0</td>\n",
              "      <td>15.666667</td>\n",
              "      <td>0</td>\n",
              "      <td>0.0</td>\n",
              "      <td>0</td>\n",
              "      <td>0</td>\n",
              "      <td>0</td>\n",
              "      <td>1</td>\n",
              "      <td>1</td>\n",
              "      <td>0</td>\n",
              "    </tr>\n",
              "    <tr>\n",
              "      <th>2</th>\n",
              "      <td>3.000000</td>\n",
              "      <td>9001</td>\n",
              "      <td>9512</td>\n",
              "      <td>4</td>\n",
              "      <td>5.0</td>\n",
              "      <td>7.481481</td>\n",
              "      <td>0</td>\n",
              "      <td>0.0</td>\n",
              "      <td>0</td>\n",
              "      <td>1</td>\n",
              "      <td>0</td>\n",
              "      <td>0</td>\n",
              "      <td>0</td>\n",
              "      <td>1</td>\n",
              "    </tr>\n",
              "    <tr>\n",
              "      <th>3</th>\n",
              "      <td>1.000000</td>\n",
              "      <td>8702</td>\n",
              "      <td>9512</td>\n",
              "      <td>4</td>\n",
              "      <td>10.0</td>\n",
              "      <td>6.812500</td>\n",
              "      <td>0</td>\n",
              "      <td>0.0</td>\n",
              "      <td>0</td>\n",
              "      <td>1</td>\n",
              "      <td>0</td>\n",
              "      <td>0</td>\n",
              "      <td>0</td>\n",
              "      <td>1</td>\n",
              "    </tr>\n",
              "    <tr>\n",
              "      <th>4</th>\n",
              "      <td>3.000000</td>\n",
              "      <td>7903</td>\n",
              "      <td>9601</td>\n",
              "      <td>2</td>\n",
              "      <td>15.0</td>\n",
              "      <td>6.864865</td>\n",
              "      <td>0</td>\n",
              "      <td>0.0</td>\n",
              "      <td>0</td>\n",
              "      <td>0</td>\n",
              "      <td>1</td>\n",
              "      <td>0</td>\n",
              "      <td>1</td>\n",
              "      <td>0</td>\n",
              "    </tr>\n",
              "  </tbody>\n",
              "</table>\n",
              "</div>\n",
              "      <button class=\"colab-df-convert\" onclick=\"convertToInteractive('df-e383e506-590e-4818-9938-0ab41cccadb3')\"\n",
              "              title=\"Convert this dataframe to an interactive table.\"\n",
              "              style=\"display:none;\">\n",
              "        \n",
              "  <svg xmlns=\"http://www.w3.org/2000/svg\" height=\"24px\"viewBox=\"0 0 24 24\"\n",
              "       width=\"24px\">\n",
              "    <path d=\"M0 0h24v24H0V0z\" fill=\"none\"/>\n",
              "    <path d=\"M18.56 5.44l.94 2.06.94-2.06 2.06-.94-2.06-.94-.94-2.06-.94 2.06-2.06.94zm-11 1L8.5 8.5l.94-2.06 2.06-.94-2.06-.94L8.5 2.5l-.94 2.06-2.06.94zm10 10l.94 2.06.94-2.06 2.06-.94-2.06-.94-.94-2.06-.94 2.06-2.06.94z\"/><path d=\"M17.41 7.96l-1.37-1.37c-.4-.4-.92-.59-1.43-.59-.52 0-1.04.2-1.43.59L10.3 9.45l-7.72 7.72c-.78.78-.78 2.05 0 2.83L4 21.41c.39.39.9.59 1.41.59.51 0 1.02-.2 1.41-.59l7.78-7.78 2.81-2.81c.8-.78.8-2.07 0-2.86zM5.41 20L4 18.59l7.72-7.72 1.47 1.35L5.41 20z\"/>\n",
              "  </svg>\n",
              "      </button>\n",
              "      \n",
              "  <style>\n",
              "    .colab-df-container {\n",
              "      display:flex;\n",
              "      flex-wrap:wrap;\n",
              "      gap: 12px;\n",
              "    }\n",
              "\n",
              "    .colab-df-convert {\n",
              "      background-color: #E8F0FE;\n",
              "      border: none;\n",
              "      border-radius: 50%;\n",
              "      cursor: pointer;\n",
              "      display: none;\n",
              "      fill: #1967D2;\n",
              "      height: 32px;\n",
              "      padding: 0 0 0 0;\n",
              "      width: 32px;\n",
              "    }\n",
              "\n",
              "    .colab-df-convert:hover {\n",
              "      background-color: #E2EBFA;\n",
              "      box-shadow: 0px 1px 2px rgba(60, 64, 67, 0.3), 0px 1px 3px 1px rgba(60, 64, 67, 0.15);\n",
              "      fill: #174EA6;\n",
              "    }\n",
              "\n",
              "    [theme=dark] .colab-df-convert {\n",
              "      background-color: #3B4455;\n",
              "      fill: #D2E3FC;\n",
              "    }\n",
              "\n",
              "    [theme=dark] .colab-df-convert:hover {\n",
              "      background-color: #434B5C;\n",
              "      box-shadow: 0px 1px 3px 1px rgba(0, 0, 0, 0.15);\n",
              "      filter: drop-shadow(0px 1px 2px rgba(0, 0, 0, 0.3));\n",
              "      fill: #FFFFFF;\n",
              "    }\n",
              "  </style>\n",
              "\n",
              "      <script>\n",
              "        const buttonEl =\n",
              "          document.querySelector('#df-e383e506-590e-4818-9938-0ab41cccadb3 button.colab-df-convert');\n",
              "        buttonEl.style.display =\n",
              "          google.colab.kernel.accessAllowed ? 'block' : 'none';\n",
              "\n",
              "        async function convertToInteractive(key) {\n",
              "          const element = document.querySelector('#df-e383e506-590e-4818-9938-0ab41cccadb3');\n",
              "          const dataTable =\n",
              "            await google.colab.kernel.invokeFunction('convertToInteractive',\n",
              "                                                     [key], {});\n",
              "          if (!dataTable) return;\n",
              "\n",
              "          const docLinkHtml = 'Like what you see? Visit the ' +\n",
              "            '<a target=\"_blank\" href=https://colab.research.google.com/notebooks/data_table.ipynb>data table notebook</a>'\n",
              "            + ' to learn more about interactive tables.';\n",
              "          element.innerHTML = '';\n",
              "          dataTable['output_type'] = 'display_data';\n",
              "          await google.colab.output.renderOutput(dataTable, element);\n",
              "          const docLink = document.createElement('div');\n",
              "          docLink.innerHTML = docLinkHtml;\n",
              "          element.appendChild(docLink);\n",
              "        }\n",
              "      </script>\n",
              "    </div>\n",
              "  </div>\n",
              "  "
            ]
          },
          "metadata": {},
          "execution_count": 3
        }
      ]
    },
    {
      "cell_type": "markdown",
      "source": [
        "## Charity Mailing\n",
        "\n",
        "Previously when we were trying to solve the targeting problem, we trained a model to predict the probabiliy that each customer will respond to the offer, plotted the profit curve according to the ranking of such probabilities. Finally we chose the threshold that yields the maximum amount of donations.  \n",
        "\n",
        "Now what if the goal is, instead to maximize the donation *profit*? Instead of ranking according to the probability of responding to the solicitation, we can rank by the expected value of targeting. With a little help from our expected value framework to decompose this problem: $\\text{Expected benefit of targeting} = p(R|\\textbf{x}) \\cdot v_R(\\textbf{x}) + [1- p(R|\\textbf{x})] \\cdot v_{NR}(\\textbf{x})$   \n",
        "\n",
        "- We already know how to build the model to predict $p(R|\\textbf{x})$.  \n",
        "- Now we also want to estimate: $v_R(\\textbf{x})$, which is the value (amount of donation - solicitation cost) of customer $\\textbf{x}$ if he responds to the offer. We can train a model only on customers who have responded to predict this.  \n",
        "- $v_{NR}(\\textbf{x})$, which is the value of customer $\\textbf{x}$ if he doesn't respond to the offer, in this application we assume to be just 0 minus the colicitation cost.\n",
        "\n"
      ],
      "metadata": {
        "id": "ca8fg8KKRifF"
      }
    },
    {
      "cell_type": "code",
      "source": [
        "# Split our data into training and test sets\n",
        "df_train, df_test = train_test_split(df, test_size=0.2, random_state=42)\n",
        "\n",
        "# Set features and target variable\n",
        "Y_respond = 'class'\n",
        "Y_amount = 'donation'\n",
        "predictors = [x for x in df.columns if x not in [Y_respond,Y_amount]]"
      ],
      "metadata": {
        "id": "0QZmAJ8UbNaa"
      },
      "execution_count": null,
      "outputs": []
    },
    {
      "cell_type": "code",
      "source": [
        "def find_best(data, target, model_type, metrics, param_name, param_vals):\n",
        "    aucs = list()\n",
        "    for param_val in param_vals:\n",
        "        model = model_type(**{param_name: param_val})\n",
        "        avg_auc = cross_val_score(model, data[predictors], data[target], cv=10, scoring=metrics).mean()\n",
        "        aucs.append(avg_auc)\n",
        "    # Plot fitting curve\n",
        "    plt.xscale('log', basex=2)\n",
        "    plt.plot(param_vals, aucs)\n",
        "    plt.xlabel(param_name)\n",
        "    plt.ylabel(\"Cross-Validated %s\" %metrics)\n",
        "    plt.title(model_type.__name__)\n",
        "    plt.show()\n",
        "    # Print best\n",
        "    best_ix = np.argmax(aucs)\n",
        "    best_auc = aucs[best_ix]\n",
        "    best_param = param_vals[best_ix]\n",
        "    print(\"Best {0} with {1}={2}. {3}: {4}\".format(model_type.__name__, param_name, best_param, metrics,round(best_auc, 2)))\n",
        "    return model_type(**{param_name: best_param})"
      ],
      "metadata": {
        "id": "fZnVZ3BheSOT"
      },
      "execution_count": null,
      "outputs": []
    },
    {
      "cell_type": "code",
      "source": [
        "# find best model to predict probability of responding to solicitation\n",
        "logistic_params = np.power(10.0, range(-3, 4))\n",
        "best_logistic = find_best(df_train, Y_respond, LogisticRegression, 'roc_auc',\"C\", logistic_params)"
      ],
      "metadata": {
        "colab": {
          "base_uri": "https://localhost:8080/",
          "height": 316
        },
        "id": "kEfnpKzEeXFj",
        "outputId": "130a44a5-76fe-4376-eb15-2de823b8786b"
      },
      "execution_count": null,
      "outputs": [
        {
          "output_type": "display_data",
          "data": {
            "text/plain": [
              "<Figure size 432x288 with 1 Axes>"
            ],
            "image/png": "[encoded data removed]"
          },
          "metadata": {
            "needs_background": "light"
          }
        },
        {
          "output_type": "stream",
          "name": "stdout",
          "text": [
            "Best LogisticRegression with C=1000.0. AUC: 0.6\n"
          ]
        }
      ]
    },
    {
      "cell_type": "code",
      "source": [
        "# find best model to predict donation amount\n",
        "tree_params = np.power(2, range(10))\n",
        "best_tree = find_best(df_train[df_train['class'] == 1], Y_amount, DecisionTreeRegressor, 'neg_mean_squared_error','min_samples_leaf', tree_params)\n",
        "ridge_params = np.arange(0, 10, 1)\n",
        "best_regression = find_best(df_train[df_train['class'] == 1], Y_amount, Ridge, 'neg_mean_squared_error','alpha', ridge_params)"
      ],
      "metadata": {
        "colab": {
          "base_uri": "https://localhost:8080/",
          "height": 617
        },
        "id": "pUvPAlnKi4kj",
        "outputId": "b4e37fbc-8c34-4b80-e6ed-0a9f325ceba4"
      },
      "execution_count": null,
      "outputs": [
        {
          "output_type": "display_data",
          "data": {
            "text/plain": [
              "<Figure size 432x288 with 1 Axes>"
            ],
            "image/png": "[encoded data removed]"
          },
          "metadata": {
            "needs_background": "light"
          }
        },
        {
          "output_type": "stream",
          "name": "stdout",
          "text": [
            "Best DecisionTreeRegressor with min_samples_leaf=32. neg_mean_squared_error: -82.3\n"
          ]
        },
        {
          "output_type": "display_data",
          "data": {
            "text/plain": [
              "<Figure size 432x288 with 1 Axes>"
            ],
            "image/png": "[encoded data removed]"
          },
          "metadata": {
            "needs_background": "light"
          }
        },
        {
          "output_type": "stream",
          "name": "stdout",
          "text": [
            "Best Ridge with alpha=1. neg_mean_squared_error: -68.02\n"
          ]
        }
      ]
    },
    {
      "cell_type": "code",
      "source": [
        "# function to plot profict curve\n",
        "def plot_profit_curve(data, donations_best_model, probs_best_model, rank_by_probs=True):\n",
        "    # Assume the cost to target each customer is constant \n",
        "    targeting_cost = 0.8\n",
        "    # Get donations if responded to solicitation\n",
        "    donations = donations_best_model.predict(data[predictors])\n",
        "    # Offer value per customer\n",
        "    offer_value = data[Y_respond] * donations - targeting_cost\n",
        "    # Get probabilities of responding to solicitation\n",
        "    probs = probs_best_model.predict_proba(data[predictors])[:, 1]\n",
        "    #Expected value if targeting\n",
        "    e_loss = probs * donations - targeting_cost\n",
        "    # Rank observations (according to probability of responding to solicitation or expected loss)\n",
        "    if rank_by_probs:\n",
        "        order = np.argsort(probs)[::-1]\n",
        "        label = \"Rank by probabilities\"\n",
        "    else:\n",
        "        order = np.argsort(e_loss)[::-1]\n",
        "        label = \"Rank by expected loss\"\n",
        "    # Build the profit curve\n",
        "    total_obs = data.shape[0]\n",
        "    x_cumulative = np.arange(len(probs)) + 1\n",
        "    x_cumulative_scaled = np.array(x_cumulative/total_obs)*100\n",
        "    profits = np.cumsum(offer_value.values[order])\n",
        "    # Plot profit curve\n",
        "    plt.plot(x_cumulative_scaled, profits, label=label)\n",
        "    # Max profit point\n",
        "    plt.plot(x_cumulative_scaled[profits.argmax(axis=0)],\n",
        "                 profits[profits.argmax(axis=0)],\n",
        "                 'ro')\n",
        "    plt.text(x_cumulative_scaled[profits.argmax(axis=0)],\n",
        "             profits[profits.argmax(axis=0)],\n",
        "             \"Estimated profit is %.4f.\" % profits[profits.argmax(axis=0)],horizontalalignment='right')\n",
        "    # Other details of the plot\n",
        "    plt.xlabel(\"Percentage of customers targeted\")\n",
        "    plt.ylabel(\"Profit\")\n",
        "    plt.title(\"Profit curve\")\n",
        "    plt.legend(loc='best')\n"
      ],
      "metadata": {
        "id": "LqZn1J3Smybh"
      },
      "execution_count": null,
      "outputs": []
    },
    {
      "cell_type": "code",
      "source": [
        "# Chosen Model:\n",
        "donations_best_model = Ridge(alpha=1.0).fit(df_train[df_train['class'] == 1][predictors], df_train[df_train['class'] == 1][Y_amount])\n",
        "probs_best_model = LogisticRegression(C = 1000).fit(df_train[predictors],df_train[Y_respond])\n",
        "\n",
        "# plot profit curve\n",
        "plot_profit_curve(df_test, donations_best_model,probs_best_model,True)\n",
        "plot_profit_curve(df_test, donations_best_model,probs_best_model,False)\n",
        "plt.show()"
      ],
      "metadata": {
        "colab": {
          "base_uri": "https://localhost:8080/",
          "height": 295
        },
        "id": "ZwH8kLzxt4oX",
        "outputId": "2bde7282-bcb7-46b0-fcfa-82f7e80c4830"
      },
      "execution_count": null,
      "outputs": [
        {
          "output_type": "display_data",
          "data": {
            "text/plain": [
              "<Figure size 432x288 with 1 Axes>"
            ],
            "image/png": "[encoded data removed]"
          },
          "metadata": {
            "needs_background": "light"
          }
        }
      ]
    },
    {
      "cell_type": "markdown",
      "source": [
        "## The Causal Version\n",
        "\n",
        "In the previous part, we actually made another assumption: The expected benefit of not targeting is 0, meaning consumers will not donate if not targeted. But we actually want to compare the expected benefit of targeting and the expected benefit of not targeting to make the decision to target or not. \n",
        "\n",
        "Now let's turn to another case study. A compnaty Nookie wants to promote a new clothing line that is not yet offered on their website because they have not started producing it. Nookie randomly selected a group of their past customers and sent them emails offering them the opportunity to pre-order items from the new clothing line. These customers were randomly split into 2 groups: one that only received the invitation to pre-order (control group) and another that also received a 20% discount on their purchase if they pre-order (treatment group).\n",
        "\n",
        "We were consulted to offer a ML solution for this targeting campaign. Nookie's goal is to maximize their pre-order sales after the discounts. It is our job then to decide whom to send the email with 20% discount and whom to send just a regular email. \n",
        "\n",
        "Again with a little help from the expected value framework. Let's assume the purchase amount $u_P(\\textbf{x})$ doesn't change if a customer gets targeted or not. And obviously the purchase amount would be 0 if not purchased:    \n",
        "$\\text{Expected benefit of targeting} = p(P|\\textbf{x},T) \\cdot (u_{P}(\\textbf{x})* 0.8)$     \n",
        "$\\text{Expected benefit of not targeting} = p(P|\\textbf{x},notT) \\cdot u_P(\\textbf{x})$  \n",
        "$\\text{Value of targeting} = EB_T(\\textbf{x}) - EB_{notT}(\\textbf{x}) = (p(P|\\textbf{x},T)*0.8 -  p(P|\\textbf{x},notT)) \\cdot u_P(\\textbf{x})$\n",
        "\n",
        "- We first need a model to estimate $p(P|\\textbf{x},T)$, the probability that a customer makes a purchase if targeted. This model needs to be trained on the sample of customers who received the targeted email in Nookie's experiment. \n",
        "- Then we need a separate model to estimate  $p(P|\\textbf{x},notT))$, the probability that a customer makes a purchase if not targeted. This model needs to be trained on the sample of customers who received the regular invitation email. \n",
        "- Let's assume $u_P(\\textbf{x})$ is $10.\n",
        "\n"
      ],
      "metadata": {
        "id": "CHLqIsw5wyIu"
      }
    },
    {
      "cell_type": "code",
      "source": [
        "# Load the data\n",
        "df = pd.read_csv(\"nookie_sample.csv\",index_col=0)\n",
        "# Take a look at the data\n",
        "df.head()"
      ],
      "metadata": {
        "colab": {
          "base_uri": "https://localhost:8080/",
          "height": 206
        },
        "id": "I9O-oy-cBvEs",
        "outputId": "9940de3e-c2fb-484e-a87c-9f0cfe563600"
      },
      "execution_count": 13,
      "outputs": [
        {
          "output_type": "execute_result",
          "data": {
            "text/plain": [
              "                f0         f1        f2        f3         f4        f5  \\\n",
              "6647089  12.616365  10.059654  9.050643  4.679882  10.280525  4.115453   \n",
              "9588694  12.616365  10.059654  8.710912  4.679882  10.280525  4.115453   \n",
              "2392056  24.393778  10.059654  8.214383  4.679882  10.280525  4.115453   \n",
              "3282442  21.907038  10.059654  8.214383  4.679882  10.280525  4.115453   \n",
              "7389735  12.616365  10.059654  8.552776  4.679882  10.280525  4.115453   \n",
              "\n",
              "               f6        f7        f8         f9       f10       f11  \\\n",
              "6647089  0.294443  4.833815  3.943716  13.190056  5.300375 -0.168679   \n",
              "9588694  0.294443  4.833815  3.927254  13.190056  5.300375 -0.168679   \n",
              "2392056 -3.993764  4.833815  3.971858  13.190056  5.300375 -0.168679   \n",
              "3282442 -6.359690  4.833815  3.971858  13.190056  5.300375 -0.168679   \n",
              "7389735  0.294443  4.833815  3.887432  21.416100  5.300375 -0.168679   \n",
              "\n",
              "         treatment  preorder  \n",
              "6647089          0         0  \n",
              "9588694          1         0  \n",
              "2392056          1         0  \n",
              "3282442          1         0  \n",
              "7389735          1         0  "
            ],
            "text/html": [
              "\n",
              "  <div id=\"df-67504ea8-3aaf-40c0-8992-0bc1e735c587\">\n",
              "    <div class=\"colab-df-container\">\n",
              "      <div>\n",
              "<style scoped>\n",
              "    .dataframe tbody tr th:only-of-type {\n",
              "        vertical-align: middle;\n",
              "    }\n",
              "\n",
              "    .dataframe tbody tr th {\n",
              "        vertical-align: top;\n",
              "    }\n",
              "\n",
              "    .dataframe thead th {\n",
              "        text-align: right;\n",
              "    }\n",
              "</style>\n",
              "<table border=\"1\" class=\"dataframe\">\n",
              "  <thead>\n",
              "    <tr style=\"text-align: right;\">\n",
              "      <th></th>\n",
              "      <th>f0</th>\n",
              "      <th>f1</th>\n",
              "      <th>f2</th>\n",
              "      <th>f3</th>\n",
              "      <th>f4</th>\n",
              "      <th>f5</th>\n",
              "      <th>f6</th>\n",
              "      <th>f7</th>\n",
              "      <th>f8</th>\n",
              "      <th>f9</th>\n",
              "      <th>f10</th>\n",
              "      <th>f11</th>\n",
              "      <th>treatment</th>\n",
              "      <th>preorder</th>\n",
              "    </tr>\n",
              "  </thead>\n",
              "  <tbody>\n",
              "    <tr>\n",
              "      <th>6647089</th>\n",
              "      <td>12.616365</td>\n",
              "      <td>10.059654</td>\n",
              "      <td>9.050643</td>\n",
              "      <td>4.679882</td>\n",
              "      <td>10.280525</td>\n",
              "      <td>4.115453</td>\n",
              "      <td>0.294443</td>\n",
              "      <td>4.833815</td>\n",
              "      <td>3.943716</td>\n",
              "      <td>13.190056</td>\n",
              "      <td>5.300375</td>\n",
              "      <td>-0.168679</td>\n",
              "      <td>0</td>\n",
              "      <td>0</td>\n",
              "    </tr>\n",
              "    <tr>\n",
              "      <th>9588694</th>\n",
              "      <td>12.616365</td>\n",
              "      <td>10.059654</td>\n",
              "      <td>8.710912</td>\n",
              "      <td>4.679882</td>\n",
              "      <td>10.280525</td>\n",
              "      <td>4.115453</td>\n",
              "      <td>0.294443</td>\n",
              "      <td>4.833815</td>\n",
              "      <td>3.927254</td>\n",
              "      <td>13.190056</td>\n",
              "      <td>5.300375</td>\n",
              "      <td>-0.168679</td>\n",
              "      <td>1</td>\n",
              "      <td>0</td>\n",
              "    </tr>\n",
              "    <tr>\n",
              "      <th>2392056</th>\n",
              "      <td>24.393778</td>\n",
              "      <td>10.059654</td>\n",
              "      <td>8.214383</td>\n",
              "      <td>4.679882</td>\n",
              "      <td>10.280525</td>\n",
              "      <td>4.115453</td>\n",
              "      <td>-3.993764</td>\n",
              "      <td>4.833815</td>\n",
              "      <td>3.971858</td>\n",
              "      <td>13.190056</td>\n",
              "      <td>5.300375</td>\n",
              "      <td>-0.168679</td>\n",
              "      <td>1</td>\n",
              "      <td>0</td>\n",
              "    </tr>\n",
              "    <tr>\n",
              "      <th>3282442</th>\n",
              "      <td>21.907038</td>\n",
              "      <td>10.059654</td>\n",
              "      <td>8.214383</td>\n",
              "      <td>4.679882</td>\n",
              "      <td>10.280525</td>\n",
              "      <td>4.115453</td>\n",
              "      <td>-6.359690</td>\n",
              "      <td>4.833815</td>\n",
              "      <td>3.971858</td>\n",
              "      <td>13.190056</td>\n",
              "      <td>5.300375</td>\n",
              "      <td>-0.168679</td>\n",
              "      <td>1</td>\n",
              "      <td>0</td>\n",
              "    </tr>\n",
              "    <tr>\n",
              "      <th>7389735</th>\n",
              "      <td>12.616365</td>\n",
              "      <td>10.059654</td>\n",
              "      <td>8.552776</td>\n",
              "      <td>4.679882</td>\n",
              "      <td>10.280525</td>\n",
              "      <td>4.115453</td>\n",
              "      <td>0.294443</td>\n",
              "      <td>4.833815</td>\n",
              "      <td>3.887432</td>\n",
              "      <td>21.416100</td>\n",
              "      <td>5.300375</td>\n",
              "      <td>-0.168679</td>\n",
              "      <td>1</td>\n",
              "      <td>0</td>\n",
              "    </tr>\n",
              "  </tbody>\n",
              "</table>\n",
              "</div>\n",
              "      <button class=\"colab-df-convert\" onclick=\"convertToInteractive('df-67504ea8-3aaf-40c0-8992-0bc1e735c587')\"\n",
              "              title=\"Convert this dataframe to an interactive table.\"\n",
              "              style=\"display:none;\">\n",
              "        \n",
              "  <svg xmlns=\"http://www.w3.org/2000/svg\" height=\"24px\"viewBox=\"0 0 24 24\"\n",
              "       width=\"24px\">\n",
              "    <path d=\"M0 0h24v24H0V0z\" fill=\"none\"/>\n",
              "    <path d=\"M18.56 5.44l.94 2.06.94-2.06 2.06-.94-2.06-.94-.94-2.06-.94 2.06-2.06.94zm-11 1L8.5 8.5l.94-2.06 2.06-.94-2.06-.94L8.5 2.5l-.94 2.06-2.06.94zm10 10l.94 2.06.94-2.06 2.06-.94-2.06-.94-.94-2.06-.94 2.06-2.06.94z\"/><path d=\"M17.41 7.96l-1.37-1.37c-.4-.4-.92-.59-1.43-.59-.52 0-1.04.2-1.43.59L10.3 9.45l-7.72 7.72c-.78.78-.78 2.05 0 2.83L4 21.41c.39.39.9.59 1.41.59.51 0 1.02-.2 1.41-.59l7.78-7.78 2.81-2.81c.8-.78.8-2.07 0-2.86zM5.41 20L4 18.59l7.72-7.72 1.47 1.35L5.41 20z\"/>\n",
              "  </svg>\n",
              "      </button>\n",
              "      \n",
              "  <style>\n",
              "    .colab-df-container {\n",
              "      display:flex;\n",
              "      flex-wrap:wrap;\n",
              "      gap: 12px;\n",
              "    }\n",
              "\n",
              "    .colab-df-convert {\n",
              "      background-color: #E8F0FE;\n",
              "      border: none;\n",
              "      border-radius: 50%;\n",
              "      cursor: pointer;\n",
              "      display: none;\n",
              "      fill: #1967D2;\n",
              "      height: 32px;\n",
              "      padding: 0 0 0 0;\n",
              "      width: 32px;\n",
              "    }\n",
              "\n",
              "    .colab-df-convert:hover {\n",
              "      background-color: #E2EBFA;\n",
              "      box-shadow: 0px 1px 2px rgba(60, 64, 67, 0.3), 0px 1px 3px 1px rgba(60, 64, 67, 0.15);\n",
              "      fill: #174EA6;\n",
              "    }\n",
              "\n",
              "    [theme=dark] .colab-df-convert {\n",
              "      background-color: #3B4455;\n",
              "      fill: #D2E3FC;\n",
              "    }\n",
              "\n",
              "    [theme=dark] .colab-df-convert:hover {\n",
              "      background-color: #434B5C;\n",
              "      box-shadow: 0px 1px 3px 1px rgba(0, 0, 0, 0.15);\n",
              "      filter: drop-shadow(0px 1px 2px rgba(0, 0, 0, 0.3));\n",
              "      fill: #FFFFFF;\n",
              "    }\n",
              "  </style>\n",
              "\n",
              "      <script>\n",
              "        const buttonEl =\n",
              "          document.querySelector('#df-67504ea8-3aaf-40c0-8992-0bc1e735c587 button.colab-df-convert');\n",
              "        buttonEl.style.display =\n",
              "          google.colab.kernel.accessAllowed ? 'block' : 'none';\n",
              "\n",
              "        async function convertToInteractive(key) {\n",
              "          const element = document.querySelector('#df-67504ea8-3aaf-40c0-8992-0bc1e735c587');\n",
              "          const dataTable =\n",
              "            await google.colab.kernel.invokeFunction('convertToInteractive',\n",
              "                                                     [key], {});\n",
              "          if (!dataTable) return;\n",
              "\n",
              "          const docLinkHtml = 'Like what you see? Visit the ' +\n",
              "            '<a target=\"_blank\" href=https://colab.research.google.com/notebooks/data_table.ipynb>data table notebook</a>'\n",
              "            + ' to learn more about interactive tables.';\n",
              "          element.innerHTML = '';\n",
              "          dataTable['output_type'] = 'display_data';\n",
              "          await google.colab.output.renderOutput(dataTable, element);\n",
              "          const docLink = document.createElement('div');\n",
              "          docLink.innerHTML = docLinkHtml;\n",
              "          element.appendChild(docLink);\n",
              "        }\n",
              "      </script>\n",
              "    </div>\n",
              "  </div>\n",
              "  "
            ]
          },
          "metadata": {},
          "execution_count": 13
        }
      ]
    },
    {
      "cell_type": "code",
      "source": [
        "print('Treatment assignments:', '\\n',df['treatment'].value_counts())"
      ],
      "metadata": {
        "colab": {
          "base_uri": "https://localhost:8080/"
        },
        "id": "VGxHH_QAEZZQ",
        "outputId": "27d4b235-d471-400d-881c-337e8a94d68e"
      },
      "execution_count": 14,
      "outputs": [
        {
          "output_type": "stream",
          "name": "stdout",
          "text": [
            "Treatment assignments: \n",
            " 1    118812\n",
            "0     20984\n",
            "Name: treatment, dtype: int64\n"
          ]
        }
      ]
    },
    {
      "cell_type": "code",
      "source": [
        "# Split our data into training and test sets\n",
        "df_train, df_test = train_test_split(df, test_size=0.2, random_state=42)\n",
        "# Set features and target variable\n",
        "features = ['f0', 'f1', 'f2', 'f3', 'f4', 'f5', 'f6', 'f7', 'f8', 'f9', 'f10', 'f11']\n",
        "Y = 'preorder'"
      ],
      "metadata": {
        "id": "ITO7Dzr9EVDv"
      },
      "execution_count": 22,
      "outputs": []
    },
    {
      "cell_type": "code",
      "source": [
        "# Define and fit the models \n",
        "parameters = {\"C\":[10**i for i in range(-2, 3)]}\n",
        "algorithm = LogisticRegression(solver=\"liblinear\")\n",
        "# A logistic regression model for the treated\n",
        "model_treated = GridSearchCV(algorithm, parameters, cv=3, verbose=2)\n",
        "model_treated.fit(df_train[df_train.treatment == 1][features],df_train[df_train.treatment == 1][Y])\n",
        "# A logistic regession model for the untreated\n",
        "model_control = GridSearchCV(algorithm, parameters, cv=3, verbose=2)\n",
        "model_control.fit(df_train[df_train.treatment == 0][features],df_train[df_train.treatment == 0][Y])"
      ],
      "metadata": {
        "id": "UeykuM1afDns"
      },
      "execution_count": null,
      "outputs": []
    },
    {
      "cell_type": "code",
      "source": [
        "# Predictions\n",
        "Pprobs_T = model_treated.predict_proba(df_test[features])[:, 1]\n",
        "Pprobs_notT = model_control.predict_proba(df_test[features])[:, 1]"
      ],
      "metadata": {
        "id": "Ru0YaK4FG5v3"
      },
      "execution_count": 26,
      "outputs": []
    },
    {
      "cell_type": "code",
      "source": [
        "# Profit curve\n",
        "V_targeting = Pprobs_T*0.8 - Pprobs_notT\n",
        "order = np.argsort(V_targeting)[::-1]\n",
        "label = \"Rank by increased profit percentage\"\n",
        "\n",
        "total_obs = df_test.shape[0]\n",
        "x_cumulative = np.arange(len(V_targeting)) + 1\n",
        "x_cumulative_scaled = np.array(x_cumulative/total_obs)*100\n",
        "V_targeting_cumulative = np.cumsum(V_targeting[order])\n",
        "plt.plot(x_cumulative_scaled, V_targeting_cumulative, label=label)\n",
        "# Max profit point\n",
        "plt.plot(x_cumulative_scaled[V_targeting_cumulative.argmax(axis=0)],V_targeting_cumulative[V_targeting_cumulative.argmax(axis=0)],'ro')\n",
        "plt.text(x_cumulative_scaled[V_targeting_cumulative.argmax(axis=0)],V_targeting_cumulative[V_targeting_cumulative.argmax(axis=0)],\n",
        "         \"Estimated profit increase is %.4f.\" % V_targeting_cumulative[V_targeting_cumulative.argmax(axis=0)],horizontalalignment='right')\n",
        "# Other details of the plot\n",
        "plt.xlabel(\"Percentage of customers targeted\")\n",
        "plt.ylabel(\"Profit\")\n",
        "plt.title(\"Profit curve - Causal Version\")\n",
        "plt.legend(loc='best')"
      ],
      "metadata": {
        "colab": {
          "base_uri": "https://localhost:8080/",
          "height": 312
        },
        "id": "S7Lyq4dwItJs",
        "outputId": "9553db00-0e56-4e85-8dde-0af8df0ab116"
      },
      "execution_count": 39,
      "outputs": [
        {
          "output_type": "execute_result",
          "data": {
            "text/plain": [
              "<matplotlib.legend.Legend at 0x7fa14a6dced0>"
            ]
          },
          "metadata": {},
          "execution_count": 39
        },
        {
          "output_type": "display_data",
          "data": {
            "text/plain": [
              "<Figure size 432x288 with 1 Axes>"
            ],
            "image/png": "[encoded data removed]"
          },
          "metadata": {
            "needs_background": "light"
          }
        }
      ]
    }
  ]
}