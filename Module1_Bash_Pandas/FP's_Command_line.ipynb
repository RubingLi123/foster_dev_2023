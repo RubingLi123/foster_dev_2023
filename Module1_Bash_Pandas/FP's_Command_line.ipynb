{
  "cells": [
    {
      "cell_type": "markdown",
      "metadata": {},
      "source": [
        "To open notebook in Colab please click below:\n",
        "\n",
        "<a href=\"https://colab.research.google.com/github/pearl-yu/foster_2022/blob/2022-master/Module1_Bash_Pandas/FP's_Command_line.ipynb\" target=\"_parent\"><img src=\"https://colab.research.google.com/assets/colab-badge.svg\" alt=\"Open In Colab\"/></a>"
      ]
    },
    {
      "cell_type": "code",
      "execution_count": 1,
      "metadata": {
        "colab": {
          "base_uri": "https://localhost:8080/"
        },
        "collapsed": true,
        "id": "uhD4O15AS0_S",
        "outputId": "5a2539b7-38e9-4f68-ca26-bf10386e918a"
      },
      "outputs": [
        {
          "output_type": "stream",
          "name": "stdout",
          "text": [
            "fatal: destination path 'foster_2022' already exists and is not an empty directory.\n",
            "/content/foster_2022/Module1_Bash_Pandas\n"
          ]
        }
      ],
      "source": [
        "#If opening in colab run this cell\n",
        "!git clone https://github.com/pearl-yu/foster_2022\n",
        "%cd foster_2022/Module1_Bash_Pandas/"
      ]
    },
    {
      "cell_type": "markdown",
      "metadata": {
        "id": "CRSOVTGxS0_U"
      },
      "source": [
        "# Command line\n",
        "\n",
        "\n",
        "Fall 2022 - Instructors: Foster Provost and Pearl Yu\n",
        "\n",
        "Teaching Assistant: Pearl Yu\n",
        "\n",
        "***"
      ]
    },
    {
      "cell_type": "markdown",
      "metadata": {
        "id": "JlewtKpXS0_V"
      },
      "source": [
        "## Command Line (Terminal)"
      ]
    },
    {
      "cell_type": "markdown",
      "metadata": {
        "id": "ftEAeXcWS0_W"
      },
      "source": [
        "One of the most underappreciated tools for dealing with data is the command line of the unix/linux operating system. As you probably know, an operating system runs computer-based devices, including servers, laptops, smartphones, and many others, usually \"under the hood\".   \"Unix\" is the family of operating systems that runs the most devices.  If you have a Mac -- there's Unix under the hood.  An iPhone?  Unix under the hood. An Android phone? Guess what ... Unix under the hood.  And what are you running on now, in the cloud?  You guessed it. (But Windows machines?  Not Unix.)\n",
        "\n",
        "You can get under the hood of a Unix-based computer via the command line, often called the Terminal, and do all manner of crazy things.  We will study a few of them.\n",
        "\n",
        "We can access the command line of our cloud machines through the Jupyter/Colab Notebooks. You can use \"shell\" commands (such as the following) by prefixing the command with an exclamation point.\n",
        "\n",
        "(The \"shell\" is a technical name for the command line interface you see in a Terminal window.  There are actually different shells with different commands & syntax, even for the same operating system, but we won't delve into that in this class.  We will use the particular shell that Colab provides us by default.  The default is the \"bash\" shell, for those of you who care.)\n",
        "\n",
        "*Here we will give you a brief overview, and show some very useful commands.  If you're serious about dealing with data, and you don't have much command-line experience, you should get the book [Data Science at the Command Line](https://datascienceatthecommandline.com/) by Janssens. The first half of this (remarkably thin) book gives an excellent practical guide to dealing with data at the Unix command line.*\n"
      ]
    },
    {
      "cell_type": "markdown",
      "metadata": {
        "id": "rt0DndMJS0_X"
      },
      "source": [
        "#### Interaction with files and folders\n",
        "\n",
        "We can navigate the folder structure in which we are working.  Folders are called \"directories\". You will typically use commands such as `ls` (list directory contents) and `cd` (change to another directory--but wait on that for a second). You can make a directory with `mkdir` or move (`mv`) and copy (`cp`) files. To delete a file you can `rm` (remove) it--careful, there's no getting it back.  To see the contents of a file you can `cat` it to the screen.  (Why `cat`?  That command actually concatenates multiple files and outputs the result.  If you give it one, then it just outputs that single file.  The default is to output it to the screen.  You'll see below that we can send command outputs elsewhere besides to the screen--like into another command!)\n",
        "\n",
        "Many commands have options you can set when running them. For example to get a listing of files as a vertical list with extra details you can call ls with the `-l` (list) flag, i.e., `ls -l`. During the normal course of using the command line, you will learn the most useful flags. If you want to see all possible options you can always read the `man` (manual) page for a command, e.g. `man ls`. When you are done reading the `man` page, you can exit by hitting `q` to quit.\n"
      ]
    },
    {
      "cell_type": "code",
      "execution_count": 2,
      "metadata": {
        "colab": {
          "base_uri": "https://localhost:8080/"
        },
        "id": "zPVT9hmIS0_Z",
        "outputId": "90acd297-ef7c-49b9-a5be-0187b38258bf"
      },
      "outputs": [
        {
          "output_type": "stream",
          "name": "stdout",
          "text": [
            " data   Dealing_with_data.ipynb  \"FP's_Command_line.ipynb\"   test\n"
          ]
        }
      ],
      "source": [
        "## list directory contents\n",
        "!ls"
      ]
    },
    {
      "cell_type": "code",
      "execution_count": 3,
      "metadata": {
        "colab": {
          "base_uri": "https://localhost:8080/"
        },
        "collapsed": true,
        "id": "R_FLxcwsS0_b",
        "outputId": "d2db2c59-3b92-4247-f1ae-e2e1dce47fa5"
      },
      "outputs": [
        {
          "output_type": "stream",
          "name": "stdout",
          "text": [
            "total 468\n",
            "drwxr-xr-x 2 root root   4096 May 31 02:31  data\n",
            "-rw-r--r-- 1 root root 229720 May 31 02:31  Dealing_with_data.ipynb\n",
            "-rw-r--r-- 1 root root 234692 May 31 02:31 \"FP's_Command_line.ipynb\"\n",
            "drwxr-xr-x 2 root root   4096 May 31 02:39  test\n"
          ]
        }
      ],
      "source": [
        "## list detailed directory contents\n",
        "!ls -l"
      ]
    },
    {
      "cell_type": "code",
      "execution_count": 4,
      "metadata": {
        "collapsed": true,
        "id": "d6pA1ssYS0_c",
        "outputId": "9d36a191-1fb9-4ccc-abd6-4849e3f7c837",
        "colab": {
          "base_uri": "https://localhost:8080/"
        }
      },
      "outputs": [
        {
          "output_type": "stream",
          "name": "stdout",
          "text": [
            "mkdir: cannot create directory ‘test’: File exists\n"
          ]
        }
      ],
      "source": [
        "## make a directory\n",
        "!mkdir test"
      ]
    },
    {
      "cell_type": "code",
      "execution_count": 5,
      "metadata": {
        "colab": {
          "base_uri": "https://localhost:8080/"
        },
        "collapsed": true,
        "id": "3XTRnEgbS0_d",
        "outputId": "78a201ea-4561-4a04-c1b4-00a8b1181093"
      },
      "outputs": [
        {
          "output_type": "stream",
          "name": "stdout",
          "text": [
            " data   Dealing_with_data.ipynb  \"FP's_Command_line.ipynb\"   test\n"
          ]
        }
      ],
      "source": [
        "!ls"
      ]
    },
    {
      "cell_type": "markdown",
      "metadata": {
        "id": "wS_gO3MyS0_e"
      },
      "source": [
        "Ok, so above we said to wait on changing directories for a second.  That's the `cd` command.  But watch this -- normally you'd think this would put you in the `data` directory:"
      ]
    },
    {
      "cell_type": "code",
      "execution_count": 6,
      "metadata": {
        "collapsed": true,
        "id": "ItFluj3mS0_h"
      },
      "outputs": [],
      "source": [
        "!cd data"
      ]
    },
    {
      "cell_type": "code",
      "source": [
        "## Display the path of current directory\n",
        "!pwd"
      ],
      "metadata": {
        "id": "fcix8vyW_RV5",
        "outputId": "cb16a57e-c0b3-47e6-9d7f-fa713a05bfc6",
        "colab": {
          "base_uri": "https://localhost:8080/"
        }
      },
      "execution_count": 7,
      "outputs": [
        {
          "output_type": "stream",
          "name": "stdout",
          "text": [
            "/content/foster_2022/Module1_Bash_Pandas\n"
          ]
        }
      ]
    },
    {
      "cell_type": "code",
      "execution_count": 8,
      "metadata": {
        "colab": {
          "base_uri": "https://localhost:8080/"
        },
        "collapsed": true,
        "id": "SjgXM3toS0_i",
        "outputId": "9812eea0-e0f5-410d-bedd-095171fe4b8b"
      },
      "outputs": [
        {
          "output_type": "stream",
          "name": "stdout",
          "text": [
            " data   Dealing_with_data.ipynb  \"FP's_Command_line.ipynb\"   test\n"
          ]
        }
      ],
      "source": [
        "!ls"
      ]
    },
    {
      "cell_type": "markdown",
      "metadata": {
        "id": "-ni7MUGkS0_j"
      },
      "source": [
        "NOTICE .. when you `ls` you see that you are still in the same directory you were below.  (See the same contents, including the `data` directory there.)\n",
        "\n",
        "Understanding why requires understanding how unix works, so we won't go into it here.  (Ok, the bottom line is that the way the Jupyter notebooks work, using the `!` command they essentially create a process, change the directory in that new process, and then exit the process, leaving you back where you were.)  The trick here is to use the `%` instead of `!`.  A minor pain to remember, but..."
      ]
    },
    {
      "cell_type": "code",
      "execution_count": 9,
      "metadata": {
        "colab": {
          "base_uri": "https://localhost:8080/"
        },
        "collapsed": true,
        "id": "vUa6P1yQS0_k",
        "outputId": "db869ce7-7620-43ed-cd13-19a08a43af81"
      },
      "outputs": [
        {
          "output_type": "stream",
          "name": "stdout",
          "text": [
            "/content/foster_2022/Module1_Bash_Pandas/data\n"
          ]
        }
      ],
      "source": [
        "%cd data"
      ]
    },
    {
      "cell_type": "code",
      "source": [
        "## Display the path of current directory\n",
        "!pwd"
      ],
      "metadata": {
        "id": "AcKeLiEL_ekJ",
        "outputId": "b3536d89-8e3d-4bc6-9657-71bc651e77ae",
        "colab": {
          "base_uri": "https://localhost:8080/"
        }
      },
      "execution_count": 10,
      "outputs": [
        {
          "output_type": "stream",
          "name": "stdout",
          "text": [
            "/content/foster_2022/Module1_Bash_Pandas/data\n"
          ]
        }
      ]
    },
    {
      "cell_type": "code",
      "execution_count": 11,
      "metadata": {
        "colab": {
          "base_uri": "https://localhost:8080/"
        },
        "collapsed": true,
        "id": "q01JdOKwS0_l",
        "outputId": "de380777-56a5-4144-ecef-7a4d7fc25767"
      },
      "outputs": [
        {
          "output_type": "stream",
          "name": "stdout",
          "text": [
            "ds_survey.csv  negative_users.csv  users.csv\n"
          ]
        }
      ],
      "source": [
        "!ls"
      ]
    },
    {
      "cell_type": "code",
      "execution_count": 12,
      "metadata": {
        "collapsed": true,
        "id": "J3iGHhtVS0_m"
      },
      "outputs": [],
      "source": [
        "## copy files (to directory)\n",
        "!cp users.csv users2.csv"
      ]
    },
    {
      "cell_type": "code",
      "execution_count": 13,
      "metadata": {
        "colab": {
          "base_uri": "https://localhost:8080/"
        },
        "collapsed": true,
        "id": "F8JC64Z0S0_m",
        "outputId": "b4337346-8b99-4d28-8e48-9f31d15ecdfa"
      },
      "outputs": [
        {
          "output_type": "stream",
          "name": "stdout",
          "text": [
            "ds_survey.csv  negative_users.csv  users2.csv  users.csv\n"
          ]
        }
      ],
      "source": [
        "!ls"
      ]
    },
    {
      "cell_type": "markdown",
      "metadata": {
        "id": "hxBiiiydS0_n"
      },
      "source": [
        "To go back up a directory, we use `..` like this:"
      ]
    },
    {
      "cell_type": "code",
      "execution_count": 14,
      "metadata": {
        "colab": {
          "base_uri": "https://localhost:8080/"
        },
        "collapsed": true,
        "id": "el1fOQ6KS0_o",
        "outputId": "5b99f74f-622c-4b3f-8b2e-4acce1ed5431"
      },
      "outputs": [
        {
          "output_type": "stream",
          "name": "stdout",
          "text": [
            "/content/foster_2022/Module1_Bash_Pandas\n"
          ]
        }
      ],
      "source": [
        "## navigate to parent directory\n",
        "%cd .."
      ]
    },
    {
      "cell_type": "code",
      "execution_count": 15,
      "metadata": {
        "colab": {
          "base_uri": "https://localhost:8080/"
        },
        "collapsed": true,
        "id": "kBTvvODyS0_p",
        "outputId": "dd5bc831-d067-4257-d895-ba3959399f37"
      },
      "outputs": [
        {
          "output_type": "stream",
          "name": "stdout",
          "text": [
            " data   Dealing_with_data.ipynb  \"FP's_Command_line.ipynb\"   test\n"
          ]
        }
      ],
      "source": [
        "!ls"
      ]
    },
    {
      "cell_type": "code",
      "execution_count": 16,
      "metadata": {
        "collapsed": true,
        "id": "ktlzUIaQS0_x"
      },
      "outputs": [],
      "source": [
        "!ls test/"
      ]
    },
    {
      "cell_type": "code",
      "execution_count": 17,
      "metadata": {
        "collapsed": true,
        "id": "NvkquEwPS0_y"
      },
      "outputs": [],
      "source": [
        "# WARNING: THIS WILL DELETE THE TEST FOLDER AND THE FILE JUST CREATED\n",
        "!rm -rf test/\n",
        "!rm data/users2.csv"
      ]
    },
    {
      "cell_type": "code",
      "execution_count": 18,
      "metadata": {
        "colab": {
          "base_uri": "https://localhost:8080/"
        },
        "collapsed": true,
        "id": "DWcGTqBCS0_y",
        "outputId": "aae0c65b-25c1-4dee-f8e2-afe5f266ffcf"
      },
      "outputs": [
        {
          "output_type": "stream",
          "name": "stdout",
          "text": [
            " data   Dealing_with_data.ipynb  \"FP's_Command_line.ipynb\"\n"
          ]
        }
      ],
      "source": [
        "!ls"
      ]
    },
    {
      "cell_type": "markdown",
      "metadata": {
        "id": "y-lDK050S0_0"
      },
      "source": [
        "#### Data manipulation and exploration\n",
        "The command line is a power tool. Virtually anything you want to do with a data file can be done at the command line. There are dozens of commands that can be put together to get almost any result! Let's try it.\n",
        "\n",
        "Lets take a look at the the file `data/users.csv`.\n",
        "\n",
        "Before we do anything, lets take a look at the first few lines of the file to get an idea of what's in it."
      ]
    },
    {
      "cell_type": "code",
      "execution_count": 19,
      "metadata": {
        "colab": {
          "base_uri": "https://localhost:8080/"
        },
        "collapsed": true,
        "id": "Zdj6bcyES0_0",
        "outputId": "923cfddc-9e97-462f-d684-5c944d4e915d"
      },
      "outputs": [
        {
          "output_type": "stream",
          "name": "stdout",
          "text": [
            "user,variable1,variable2\r\n",
            "parallelconcerned,145.391881,-6.081689\r\n",
            "driftmvc,145.7887,-5.207083\r\n",
            "snowdonevasive,144.295861,-5.826789\r\n",
            "cobolglaucous,146.726242,-6.569828\r\n",
            "stylishmugs,147.22005,-9.443383\r\n",
            "hypergalaxyfibula,143.669186,-3.583828\r\n",
            "pipetsrockers,-45.425978,61.160517\r\n",
            "bracesworkable,-51.678064,64.190922\r\n",
            "spiritedjump,-50.689325,67.016969\r\n"
          ]
        }
      ],
      "source": [
        "!head data/users.csv"
      ]
    },
    {
      "cell_type": "markdown",
      "metadata": {
        "id": "B8vqU0U_S0_0"
      },
      "source": [
        "Maybe we want to see a few more lines of the file,"
      ]
    },
    {
      "cell_type": "code",
      "execution_count": 20,
      "metadata": {
        "colab": {
          "base_uri": "https://localhost:8080/"
        },
        "collapsed": true,
        "id": "i5nN198gS0_1",
        "outputId": "bc3bc190-1b46-4704-df57-00ae2f69e0a0"
      },
      "outputs": [
        {
          "output_type": "stream",
          "name": "stdout",
          "text": [
            "user,variable1,variable2\r\n",
            "parallelconcerned,145.391881,-6.081689\r\n",
            "driftmvc,145.7887,-5.207083\r\n",
            "snowdonevasive,144.295861,-5.826789\r\n",
            "cobolglaucous,146.726242,-6.569828\r\n",
            "stylishmugs,147.22005,-9.443383\r\n",
            "hypergalaxyfibula,143.669186,-3.583828\r\n",
            "pipetsrockers,-45.425978,61.160517\r\n",
            "bracesworkable,-51.678064,64.190922\r\n",
            "spiritedjump,-50.689325,67.016969\r\n",
            "barnevidence,-68.703161,76.531203\r\n",
            "emeraldclippers,-18.072703,65.659994\r\n",
            "maintainwiggly,-14.401389,65.283333\r\n",
            "submittedwavelength,-15.227222,64.295556\r\n",
            "clucklinnet,-17.425978,65.952328\r\n"
          ]
        }
      ],
      "source": [
        "!head -15 data/users.csv"
      ]
    },
    {
      "cell_type": "markdown",
      "metadata": {
        "id": "kx6yq1ixS0_2"
      },
      "source": [
        "How about the last few lines of the file?"
      ]
    },
    {
      "cell_type": "code",
      "execution_count": 21,
      "metadata": {
        "colab": {
          "base_uri": "https://localhost:8080/"
        },
        "collapsed": true,
        "id": "C2o5kDr0S0_2",
        "outputId": "87d39d56-909c-4d78-8f86-c692e50c0697"
      },
      "outputs": [
        {
          "output_type": "stream",
          "name": "stdout",
          "text": [
            "troubledseptum,135.521667,-29.716667\r\n",
            "troubledseptum,-118.598889,34.256944\r\n",
            "organicmajor,-5.435,36.136\r\n",
            "cobolglaucous,-123.5,48.85\r\n",
            "troubledseptum,-124.016667,49.616667\r\n",
            "snaildossier,-124.983333,50.066667\r\n",
            "unbalancedprotoplanet,-127.028611,50.575556\r\n",
            "badgefields,-126.833333,50.883333\r\n",
            "backedammeter,-123.00596,48.618397\r\n",
            "clucklinnet,-117.1995,32.7552\r\n"
          ]
        }
      ],
      "source": [
        "!tail data/users.csv"
      ]
    },
    {
      "cell_type": "markdown",
      "metadata": {
        "id": "Xt5Y6ozmS0_3"
      },
      "source": [
        "We can count how many lines are in the file by using `wc` (wordcount--which counts more than just words) with the `-l` flag to count lines,"
      ]
    },
    {
      "cell_type": "code",
      "execution_count": 22,
      "metadata": {
        "colab": {
          "base_uri": "https://localhost:8080/"
        },
        "id": "mzVID3eAS0_3",
        "outputId": "3e0a3dd8-dcec-4e59-b5a9-e80c2b568aae"
      },
      "outputs": [
        {
          "output_type": "stream",
          "name": "stdout",
          "text": [
            "8104 data/users.csv\n"
          ]
        }
      ],
      "source": [
        "!wc -l data/users.csv"
      ]
    },
    {
      "cell_type": "markdown",
      "metadata": {
        "id": "5XLddSt7S0_3"
      },
      "source": [
        "It looks like there are three columns in this file, lets take a look at the first one alone. Here, we can `cut` the field (`-f`) we want as long as we give the proper delimeter to tell what separates fields (`-d` defaults to tab)."
      ]
    },
    {
      "cell_type": "code",
      "execution_count": null,
      "metadata": {
        "collapsed": true,
        "id": "nETUCVbsS0_6"
      },
      "outputs": [],
      "source": [
        "!cut -f1 -d',' data/users.csv"
      ]
    },
    {
      "cell_type": "markdown",
      "metadata": {
        "id": "o27Lof7XS0_7"
      },
      "source": [
        "That's a lot of output. Let's combine the `cut` command with the `head` command by *piping* the output of one command into another command.  The vertical bar `|` is the *pipe*."
      ]
    },
    {
      "cell_type": "code",
      "execution_count": 24,
      "metadata": {
        "colab": {
          "base_uri": "https://localhost:8080/"
        },
        "collapsed": true,
        "id": "vAq6veR-S0_7",
        "outputId": "cd667660-827a-4cb9-9f57-cdaae0e98dcc"
      },
      "outputs": [
        {
          "output_type": "stream",
          "name": "stdout",
          "text": [
            "user\n",
            "parallelconcerned\n",
            "driftmvc\n",
            "snowdonevasive\n",
            "cobolglaucous\n",
            "stylishmugs\n",
            "hypergalaxyfibula\n",
            "pipetsrockers\n",
            "bracesworkable\n",
            "spiritedjump\n"
          ]
        }
      ],
      "source": [
        "!cut -f1 -d',' data/users.csv | head"
      ]
    },
    {
      "cell_type": "markdown",
      "metadata": {
        "id": "wTXEvlJrS1AJ"
      },
      "source": [
        "We can use pipes (`|`) to string together many commands to create very powerful one-liners. For example, let's figure out the number of _unique_ users in the first column of the data file. We will get all the values from the first column, sort them, reduce that to only the unique values, and then count the number of lines in the result:"
      ]
    },
    {
      "cell_type": "code",
      "execution_count": 25,
      "metadata": {
        "colab": {
          "base_uri": "https://localhost:8080/"
        },
        "collapsed": true,
        "id": "jghRASr1S1AK",
        "outputId": "9e98e355-79b1-4294-9fdb-d43192035c33"
      },
      "outputs": [
        {
          "output_type": "stream",
          "name": "stdout",
          "text": [
            "201\n"
          ]
        }
      ],
      "source": [
        "!cut -f1 -d',' data/users.csv | sort | uniq | wc -l"
      ]
    },
    {
      "cell_type": "markdown",
      "metadata": {
        "id": "5hj21HaBS1AM"
      },
      "source": [
        "Or, we can get a list of the top-10 most frequently occuring users. If we give `uniq` the `-c` flag, it will return the number of times each value occurs. Since these counts are the first entry in each new line, we can tell `sort` to expect numbers (`-n`) and to give us the results in reverse (`-r`) order. Note, that when you want to use two or more single letter flags, you can just place them one after another."
      ]
    },
    {
      "cell_type": "code",
      "execution_count": 26,
      "metadata": {
        "colab": {
          "base_uri": "https://localhost:8080/"
        },
        "collapsed": true,
        "id": "A6P0VqBuS1AM",
        "outputId": "8aed5ac2-7148-4da1-b6e0-7c2503eab1cc"
      },
      "outputs": [
        {
          "output_type": "stream",
          "name": "stdout",
          "text": [
            "     59 compareas\n",
            "     56 upbeatodd\n",
            "     56 burntrifle\n",
            "     56 binomialapathetic\n",
            "     54 frequencywould\n",
            "     54 ellipticalfabricator\n",
            "     53 globeshameful\n",
            "     52 badgefields\n",
            "     52 ashamedmuscles\n",
            "     51 alloweruptions\n"
          ]
        }
      ],
      "source": [
        "!cut -f1 -d',' data/users.csv | sort | uniq -c | sort -nr | head"
      ]
    },
    {
      "cell_type": "markdown",
      "metadata": {
        "id": "3Yl0ImIPS1AM"
      },
      "source": [
        "**Don't freak out at this point.**  Of course if you've never used this before, you're not expected to master all that at once.  The point here is to show how powerful a data manipulation tool the Unix command-line can be.  You can get resources (like the thin book mentioned above) to teach you and to use as a reference.  Using this notebook you should be able to use these particular commands in different ways by changing (and experimenting with) the flags."
      ]
    },
    {
      "cell_type": "markdown",
      "metadata": {
        "id": "U_lfEiRmS1AN"
      },
      "source": [
        "After some exploration we decide we want to keep only part of our data and bring it into a new file. Let's find all the records that have a negative value in the second and third columns and put these results in a file called `data/negative_users.csv`. Searching through files can be done using _[regular expressions](http://www.robelle.com/smugbook/regexpr.html#expression)_ with a tool called `grep` (Global Regular Expression Printer). \n",
        "\n",
        "And do you remember that we can send the output of a command to the screen or into another command?  You can also direct output of a command (or a string of commands) into a file using the \"redirection\" operator `>`.  (NB: the pipe is also a redirection operator.  Another redirection operator is `>>`, which concatenates the output to the end of the file, rather than overwriting it.)"
      ]
    },
    {
      "cell_type": "code",
      "execution_count": 27,
      "metadata": {
        "collapsed": true,
        "id": "hq8-c7dtS1AN"
      },
      "outputs": [],
      "source": [
        "!grep '.*,-.*,-.*' data/users.csv > data/negative_users.csv"
      ]
    },
    {
      "cell_type": "markdown",
      "metadata": {
        "id": "ZEEfn5N7S1AO"
      },
      "source": [
        "(You'll have to look into the regular expression link to figure that one out.)"
      ]
    },
    {
      "cell_type": "code",
      "execution_count": 28,
      "metadata": {
        "colab": {
          "base_uri": "https://localhost:8080/"
        },
        "collapsed": true,
        "id": "0oDrc8lwS1AO",
        "outputId": "90009405-5928-4d11-b6d3-46d7efa61ca5"
      },
      "outputs": [
        {
          "output_type": "stream",
          "name": "stdout",
          "text": [
            "ds_survey.csv  negative_users.csv  users.csv\n"
          ]
        }
      ],
      "source": [
        "!ls data"
      ]
    }
  ],
  "metadata": {
    "colab": {
      "collapsed_sections": [],
      "name": "FP's Command line.ipynb",
      "provenance": [],
      "include_colab_link": true
    },
    "kernelspec": {
      "display_name": "Python 3",
      "language": "python",
      "name": "python3"
    },
    "language_info": {
      "codemirror_mode": {
        "name": "ipython",
        "version": 3
      },
      "file_extension": ".py",
      "mimetype": "text/x-python",
      "name": "python",
      "nbconvert_exporter": "python",
      "pygments_lexer": "ipython3",
      "version": "3.8.5"
    }
  },
  "nbformat": 4,
  "nbformat_minor": 0
}
